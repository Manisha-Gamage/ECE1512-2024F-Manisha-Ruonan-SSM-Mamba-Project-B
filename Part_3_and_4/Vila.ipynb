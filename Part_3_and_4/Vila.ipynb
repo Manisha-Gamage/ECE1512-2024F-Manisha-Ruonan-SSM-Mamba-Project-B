{
 "cells": [
  {
   "cell_type": "raw",
   "metadata": {},
   "source": [
    "This code is run on GPU!"
   ]
  },
  {
   "cell_type": "code",
   "execution_count": null,
   "metadata": {},
   "outputs": [],
   "source": [
    "from google.colab import drive\n",
    "drive.mount('/content/drive')"
   ]
  },
  {
   "cell_type": "code",
   "execution_count": null,
   "metadata": {
    "colab": {
     "base_uri": "https://localhost:8080/"
    },
    "id": "kiBLtLpvGTx0",
    "outputId": "09ebbda5-bed1-49da-a7be-dc1819a0f45d"
   },
   "outputs": [],
   "source": [
    "%cd drive/MyDrive/ece_project2/vila\n",
    "!pwd"
   ]
  },
  {
   "cell_type": "code",
   "execution_count": null,
   "metadata": {
    "colab": {
     "base_uri": "https://localhost:8080/"
    },
    "id": "EAKVbuyfGtzo",
    "outputId": "55ee5312-4396-4843-d6cf-579deadcae3b"
   },
   "outputs": [],
   "source": [
    "#!/bin/bash\n",
    "# !kaggle datasets download agrigorev/clothing-dataset-full"
   ]
  },
  {
   "cell_type": "code",
   "execution_count": null,
   "metadata": {
    "id": "sSTkGMAbGzjq"
   },
   "outputs": [],
   "source": [
    "# !unzip clothing-dataset-full.zip -d clothing-dataset-full"
   ]
  },
  {
   "cell_type": "code",
   "execution_count": null,
   "metadata": {
    "colab": {
     "base_uri": "https://localhost:8080/"
    },
    "id": "fKqZTWK0MCUX",
    "outputId": "2948d897-bbf2-4975-f6c1-3663bbdf8426"
   },
   "outputs": [],
   "source": [
    "from huggingface_hub import login\n",
    "import getpass\n",
    "\n",
    "# Prompt the user to enter their Hugging Face Token\n",
    "hf_token = getpass.getpass(\"Enter your Hugging Face Token: \")\n",
    "\n",
    "# Use the token to log in to Hugging Face\n",
    "login(token=hf_token)\n",
    "\n",
    "print(\"Successfully authenticated with Hugging Face!\")"
   ]
  },
  {
   "cell_type": "markdown",
   "metadata": {
    "id": "cQgmcNERLkT2"
   },
   "source": [
    "### *Step* 1: Filter T-shirts and pants dataset"
   ]
  },
  {
   "cell_type": "code",
   "execution_count": null,
   "metadata": {
    "id": "8zZmVwipLj_1"
   },
   "outputs": [],
   "source": [
    "import os\n",
    "import shutil\n",
    "import pandas as pd\n",
    "\n",
    "dest_dataset_dir = \"./dataset\"\n",
    "os.makedirs(dest_dataset_dir, exist_ok=True)\n",
    "\n",
    "tshirt_dir = os.path.join(dest_dataset_dir, \"tshirt\")\n",
    "pants_dir = os.path.join(dest_dataset_dir, \"pants\")\n",
    "os.makedirs(tshirt_dir, exist_ok=True)\n",
    "os.makedirs(pants_dir, exist_ok=True)\n"
   ]
  },
  {
   "cell_type": "code",
   "execution_count": null,
   "metadata": {
    "colab": {
     "base_uri": "https://localhost:8080/",
     "height": 206
    },
    "id": "jwO84379MU4T",
    "outputId": "75412718-1bb8-4649-dd66-cdba02f34bb5"
   },
   "outputs": [],
   "source": [
    "csv_file = \"./clothing-dataset-full/images.csv\"\n",
    "\n",
    "df = pd.read_csv(csv_file)\n",
    "df.head()\n"
   ]
  },
  {
   "cell_type": "code",
   "execution_count": null,
   "metadata": {
    "colab": {
     "base_uri": "https://localhost:8080/"
    },
    "id": "C5F6oboGOdJ6",
    "outputId": "20965e12-67b7-4ed4-8d97-92222e121f25"
   },
   "outputs": [],
   "source": [
    "summary = df['label'].value_counts()\n",
    "tshirt_count = summary.get('T-Shirt', 0)\n",
    "pants_count = summary.get('Pants', 0)\n",
    "\n",
    "print(f\"Number of T-Shirt images: {tshirt_count}\")\n",
    "print(f\"Number of Pants images: {pants_count}\")"
   ]
  },
  {
   "cell_type": "code",
   "execution_count": null,
   "metadata": {
    "id": "dbt7E1jIM8LE"
   },
   "outputs": [],
   "source": [
    "orig_dataset_dir = \"./clothing-dataset-full/images_original\"\n",
    "tshirt_dir = os.path.join(dest_dataset_dir, \"tshirt\")\n",
    "pants_dir = os.path.join(dest_dataset_dir, \"pants\")\n",
    "\n",
    "filtered_df = df[df['label'].isin([\"T-Shirt\", \"Pants\"])]\n",
    "\n",
    "for index, row in filtered_df.iterrows():\n",
    "  img_name = f\"{row['image']}.jpg\"\n",
    "  src_path = os.path.join(orig_dataset_dir, img_name)\n",
    "  if row['label'] == \"T-Shirt\":\n",
    "    shutil.copy(src_path, tshirt_dir)\n",
    "  elif row['label'] == \"Pants\":\n",
    "    shutil.copy(src_path, pants_dir)"
   ]
  },
  {
   "cell_type": "markdown",
   "metadata": {
    "id": "HWUPkMDfU0nA"
   },
   "source": [
    "### Step 2: Load and Preprocess the Dataset"
   ]
  },
  {
   "cell_type": "code",
   "execution_count": null,
   "metadata": {
    "id": "CmZrTqklSCcm"
   },
   "outputs": [],
   "source": [
    "from torchvision import transforms\n",
    "from torch.utils.data import DataLoader, random_split\n",
    "from torchvision.datasets import ImageFolder\n",
    "\n",
    "dest_dataset_dir = \"./dataset\"\n",
    "\n",
    "transform = transforms.Compose([\n",
    "    transforms.Resize((336, 336)),\n",
    "    transforms.ToTensor(),\n",
    "    transforms.Normalize(mean=[0.5, 0.5, 0.5], std=[0.5, 0.5, 0.5])\n",
    "])\n",
    "\n",
    "dataset = ImageFolder(root=dest_dataset_dir, transform=transform)\n",
    "\n",
    "train_size = int(0.8 * len(dataset))\n",
    "test_size = len(dataset) - train_size\n",
    "train_dataset, test_dataset = random_split(dataset, [train_size, test_size])\n",
    "\n",
    "train_loader = DataLoader(train_dataset, batch_size=32, shuffle=True)\n",
    "test_loader = DataLoader(test_dataset, batch_size=32, shuffle=False)"
   ]
  },
  {
   "cell_type": "markdown",
   "metadata": {
    "id": "Yk1o95IiWGZk"
   },
   "source": [
    "### Step 3: Load Vila Model (ViTL/14)"
   ]
  },
  {
   "cell_type": "code",
   "execution_count": null,
   "metadata": {
    "colab": {
     "base_uri": "https://localhost:8080/"
    },
    "id": "QqCA2sfOb67F",
    "outputId": "bb1bdb20-2519-44af-c7b9-85183e6cdf5a"
   },
   "outputs": [],
   "source": [
    "# !git clone https://github.com/Efficient-Large-Model/VILA.git\n",
    "# %cd VILA"
   ]
  },
  {
   "cell_type": "code",
   "execution_count": null,
   "metadata": {
    "id": "Spvp5tOYcCyq"
   },
   "outputs": [],
   "source": [
    "# !chmod a+x environment_setup.sh\n",
    "# !./environment_setup.sh vila\n",
    "\n",
    "# !python -W ignore llava/eval/run_vila.py \\\n",
    "#     --model-path Efficient-Large-Model/Llama-3-VILA1.5-8 \\\n",
    "#     --conv-mode llama_3 \\\n",
    "#     --query \"<image>\\n Please describe the traffic condition.\" \\\n",
    "#     --image-file \"car.jpg\""
   ]
  },
  {
   "cell_type": "code",
   "execution_count": null,
   "metadata": {
    "colab": {
     "base_uri": "https://localhost:8080/",
     "height": 1000,
     "referenced_widgets": [
      "48efc4d49fc049dfb70006506c8a0c21",
      "f94e3d412912426f9cfa4ba9263ccf05",
      "387fce6a99344029912d3c783aec56da",
      "cfe8e49421d74729914e0f47eb16ade9",
      "73483cddb46f439d9f54e773e7d87568",
      "6fb9f77887c949fb992c20f13cf25af9",
      "97271c879ddb4eb78f4f17fbf52e6de3",
      "3adb0394f4f54aabb559654a065bdb75",
      "e3bc1f281c7f4ed0a68dcf72a8afdcab",
      "ba541e3388824405b80b647bf4009ddd",
      "088e193dcb384a9a8c575abaf650a135",
      "57dd3d9146df4ddcad8cb781fe1e2ba0",
      "13c02e3d08254f63a4aff09e45d40430",
      "0bbf71c0b92a44999f92a69f3dd7b540",
      "c6d8eebe0d0c4bdea190ba2a7badf552",
      "1d5f8697963a48968b5160a3fdb48820",
      "a6f0d563148a44ae8f4f7448cc5b0fe0",
      "6522d980a8a748e7ae3053903d16f9c2",
      "2cf87df02f424b2f94beb40a37868d9c",
      "590db6f6b8914f83b07e20689b82a476",
      "8648fdd0386640d08f311d06990d1986",
      "cafaac9b8fab46daa30764448bc796d4"
     ]
    },
    "id": "F0LsqnqjqHrz",
    "outputId": "df3348e0-7c78-4543-9404-019ad6d3a693"
   },
   "outputs": [],
   "source": [
    "import torch\n",
    "from transformers import CLIPProcessor, CLIPModel\n",
    "from tqdm import tqdm\n",
    "\n",
    "device = \"cuda\" if torch.cuda.is_available() else \"cpu\"\n",
    "\n",
    "model = CLIPModel.from_pretrained(\"openai/clip-vit-large-patch14\")\n",
    "model.to(device)\n"
   ]
  },
  {
   "cell_type": "code",
   "execution_count": null,
   "metadata": {
    "colab": {
     "base_uri": "https://localhost:8080/"
    },
    "id": "v-txsDzXL2Hu",
    "outputId": "8b806fb1-15e9-4db3-f552-7bf693603ba4"
   },
   "outputs": [],
   "source": [
    "vision_model = model.vision_model\n",
    "\n",
    "print(vision_model)"
   ]
  },
  {
   "cell_type": "markdown",
   "metadata": {
    "id": "H2dvZIQgEzDg"
   },
   "source": [
    "### Step 4: Modify Configuration"
   ]
  },
  {
   "cell_type": "code",
   "execution_count": null,
   "metadata": {
    "colab": {
     "base_uri": "https://localhost:8080/"
    },
    "id": "EDqCya7YOLo-",
    "outputId": "566f9b80-fdcb-4920-cedc-2c8e4069f5e7"
   },
   "outputs": [],
   "source": [
    "config = vision_model.config\n",
    "print(config)"
   ]
  },
  {
   "cell_type": "code",
   "execution_count": null,
   "metadata": {
    "colab": {
     "base_uri": "https://localhost:8080/"
    },
    "id": "HBelmJpgOQhL",
    "outputId": "4e16ad60-5a6d-475c-fa22-531fa1add86a"
   },
   "outputs": [],
   "source": [
    "from transformers import CLIPVisionConfig, CLIPVisionModel\n",
    "\n",
    "config.image_size = 336\n",
    "num_patches = (config.image_size // config.patch_size) **  2\n",
    "\n",
    "updated_vision_model = CLIPVisionModel(config)\n",
    "updated_vision_model.to(device)\n",
    "print(updated_vision_model.config)"
   ]
  },
  {
   "cell_type": "markdown",
   "metadata": {
    "id": "A8QqgVV9Exu9"
   },
   "source": [
    "### Step 5: Train the Original Model"
   ]
  },
  {
   "cell_type": "code",
   "execution_count": null,
   "metadata": {
    "colab": {
     "base_uri": "https://localhost:8080/"
    },
    "id": "K50w9MvOnCDm",
    "outputId": "766900c6-f439-4001-af66-99399bbc30ff"
   },
   "outputs": [],
   "source": [
    "import os\n",
    "torch.save(updated_vision_model, \"entire_model.pth\")\n",
    "\n",
    "model_size = os.path.getsize(\"entire_model.pth\") / (1024 * 1024)\n",
    "print(f\"Entire Model Size: {model_size:.2f} MB\")"
   ]
  },
  {
   "cell_type": "code",
   "execution_count": null,
   "metadata": {
    "id": "hA_XSzFKRhME"
   },
   "outputs": [],
   "source": [
    "import time\n",
    "import psutil\n",
    "\n",
    "input_size = (3, 336, 336)\n",
    "\n",
    "def extract_embeddings(model, dataloader, device):\n",
    "    model.eval()\n",
    "    all_embeddings = []\n",
    "    all_labels = []\n",
    "\n",
    "    batch_times = []\n",
    "\n",
    "    start_time = time.time()\n",
    "    if device != \"cpu\":\n",
    "      torch.cuda.reset_peak_memory_stats(device)\n",
    "\n",
    "\n",
    "    with torch.no_grad():\n",
    "        for images, labels in tqdm(dataloader):\n",
    "            batch_start_time = time.time()\n",
    "            images = images.to(device)\n",
    "\n",
    "\n",
    "            outputs = model(pixel_values=images)\n",
    "            embeddings = outputs.last_hidden_state[:, 0, :]\n",
    "\n",
    "            batch_times.append(time.time() - batch_start_time)\n",
    "\n",
    "            all_embeddings.append(embeddings.cpu())\n",
    "            all_labels.append(labels.cpu())\n",
    "\n",
    "    total_time = time.time() - start_time\n",
    "    print(f\"Total Embedding Extraction Time: {total_time:.2f} seconds\")\n",
    "\n",
    "    avg_batch_time = sum(batch_times) / len(batch_times)\n",
    "    print(f\"Average Time per Batch: {avg_batch_time:.2f} seconds\")\n",
    "\n",
    "    if device != \"cpu\":\n",
    "      peak_memory = torch.cuda.max_memory_allocated(device) / (1024 * 1024)  # Convert to MB\n",
    "      print(f\"Peak Memory Usage During Embedding Extraction: {peak_memory:.2f} MB\")\n",
    "\n",
    "    return torch.cat(all_embeddings), torch.cat(all_labels)\n",
    "\n"
   ]
  },
  {
   "cell_type": "code",
   "execution_count": null,
   "metadata": {
    "colab": {
     "base_uri": "https://localhost:8080/"
    },
    "id": "4vP5Ubwcm5Pm",
    "outputId": "7810f940-d602-409e-8793-3b1153e4ec9f"
   },
   "outputs": [],
   "source": [
    "train_embeddings, train_labels = extract_embeddings(updated_vision_model, train_loader, device)\n",
    "test_embeddings, test_labels = extract_embeddings(updated_vision_model, test_loader, device)\n",
    "\n",
    "print(f\"Train Embeddings Shape: {train_embeddings.shape}\")\n",
    "print(f\"Test Embeddings Shape: {test_embeddings.shape}\")"
   ]
  },
  {
   "cell_type": "code",
   "execution_count": null,
   "metadata": {
    "id": "kTvUxFfYgAeB"
   },
   "outputs": [],
   "source": [
    "from sklearn.linear_model import LogisticRegression\n",
    "from sklearn.metrics import accuracy_score\n",
    "\n",
    "def train_and_evaluate_classifier(train_embeddings, train_labels, test_embeddings, test_labels):\n",
    "\n",
    "    train_embeddings_np = train_embeddings.numpy()\n",
    "    train_labels_np = train_labels.numpy()\n",
    "    test_embeddings_np = test_embeddings.numpy()\n",
    "    test_labels_np = test_labels.numpy()\n",
    "\n",
    "\n",
    "    classifier = LogisticRegression(max_iter=1000)\n",
    "    classifier.fit(train_embeddings_np, train_labels_np)\n",
    "\n",
    "\n",
    "    predictions = classifier.predict(test_embeddings_np)\n",
    "    accuracy = accuracy_score(test_labels_np, predictions)\n",
    "\n",
    "    print(f\"Test Accuracy: {accuracy:.4f}\")\n"
   ]
  },
  {
   "cell_type": "code",
   "execution_count": null,
   "metadata": {
    "colab": {
     "base_uri": "https://localhost:8080/"
    },
    "id": "ncozUDmlhpC3",
    "outputId": "9ba68731-8e81-4247-a7f6-da171f23eddb"
   },
   "outputs": [],
   "source": [
    "train_and_evaluate_classifier(train_embeddings, train_labels, test_embeddings, test_labels)"
   ]
  },
  {
   "cell_type": "markdown",
   "metadata": {
    "id": "KdhBlNuDicdB"
   },
   "source": [
    "### Step 6:Pruning"
   ]
  },
  {
   "cell_type": "markdown",
   "metadata": {
    "id": "HTzUkI43HrSQ"
   },
   "source": [
    "#### Linear Layer Pruning"
   ]
  },
  {
   "cell_type": "code",
   "execution_count": null,
   "metadata": {
    "colab": {
     "base_uri": "https://localhost:8080/"
    },
    "id": "8MybYwkOijAE",
    "outputId": "9f327c6a-d618-4c31-a95f-f079d691e523"
   },
   "outputs": [],
   "source": [
    "import torch.nn.utils.prune as prune\n",
    "\n",
    "def apply_pruning(model, amount=0.3):\n",
    "    pruned_model = model.__class__(model.config).to(next(model.parameters()).device)\n",
    "    pruned_model.load_state_dict(model.state_dict())\n",
    "\n",
    "    for name, module in pruned_model.named_modules():\n",
    "        if isinstance(module, torch.nn.Linear):\n",
    "            prune.l1_unstructured(module, name='weight', amount=amount)\n",
    "\n",
    "    for name, module in pruned_model.named_modules():\n",
    "        if isinstance(module, torch.nn.Linear):\n",
    "            prune.remove(module, 'weight')\n",
    "\n",
    "    return pruned_model\n",
    "\n",
    "pruned_model = apply_pruning(updated_vision_model, amount=0.45)\n",
    "\n",
    "torch.save(pruned_model.state_dict(), \"pruned_vision_model.pth\")\n",
    "print(f\"Pruned model saved. Size: {os.path.getsize('pruned_vision_model.pth') / 1e6:.2f} MB\")\n"
   ]
  },
  {
   "cell_type": "code",
   "execution_count": null,
   "metadata": {
    "colab": {
     "base_uri": "https://localhost:8080/"
    },
    "id": "3UGrRSYHilUb",
    "outputId": "6991dfcf-7556-49b9-d1c2-2a2886d345d2"
   },
   "outputs": [],
   "source": [
    "pruned_train_embeddings, pruned_train_labels = extract_embeddings(\n",
    "    pruned_model, train_loader, device)\n",
    "\n",
    "pruned_test_embeddings, pruned_test_labels = extract_embeddings(\n",
    "    pruned_model, test_loader, device)\n",
    "\n",
    "train_and_evaluate_classifier(pruned_train_embeddings, pruned_train_labels,\n",
    "                              pruned_test_embeddings, pruned_test_labels)\n"
   ]
  },
  {
   "cell_type": "code",
   "execution_count": null,
   "metadata": {
    "id": "ZVyTdo7sixQp"
   },
   "outputs": [],
   "source": [
    "def measure_inference_time(model, dataloader, device):\n",
    "    model.eval()\n",
    "    total_time = 0\n",
    "    total_batches = len(dataloader)\n",
    "\n",
    "    with torch.no_grad():\n",
    "        for images, _ in dataloader:\n",
    "            images = images.to(device)\n",
    "\n",
    "            start_time = time.time()\n",
    "            _ = model(pixel_values=images)\n",
    "            end_time = time.time()\n",
    "\n",
    "            total_time += (end_time - start_time)\n",
    "\n",
    "    avg_time_per_batch = total_time / total_batches\n",
    "    print(f\"Total Inference Time: {total_time:.2f} seconds\")\n",
    "    print(f\"Average Time per Batch: {avg_time_per_batch:.4f} seconds\")\n",
    "\n",
    "    return total_time, avg_time_per_batch\n"
   ]
  },
  {
   "cell_type": "code",
   "execution_count": null,
   "metadata": {
    "colab": {
     "base_uri": "https://localhost:8080/"
    },
    "id": "cXNt7tPzrPup",
    "outputId": "bd748514-0ab1-4eeb-ca90-d40d6b16acba"
   },
   "outputs": [],
   "source": [
    "measure_inference_time(updated_vision_model, test_loader, device)\n",
    "measure_inference_time(pruned_model, test_loader, device)"
   ]
  },
  {
   "cell_type": "code",
   "execution_count": null,
   "metadata": {
    "colab": {
     "base_uri": "https://localhost:8080/"
    },
    "id": "JATOz5YQUv81",
    "outputId": "16d2437f-201c-4f1f-e624-0ec0fbdf9b81"
   },
   "outputs": [],
   "source": [
    "import torch.nn.utils.prune as prune\n",
    "\n",
    "def structured_prune_model(vision_model, prune_amount=0.3):\n",
    "    for i, layer in enumerate(vision_model.encoder.layers):\n",
    "        prune.ln_structured(layer.self_attn.k_proj, name=\"weight\", amount=prune_amount, n=2, dim=0)\n",
    "        prune.ln_structured(layer.self_attn.q_proj, name=\"weight\", amount=prune_amount, n=2, dim=0)\n",
    "        prune.ln_structured(layer.self_attn.v_proj, name=\"weight\", amount=prune_amount, n=2, dim=0)\n",
    "        prune.ln_structured(layer.self_attn.out_proj, name=\"weight\", amount=prune_amount, n=2, dim=0)\n",
    "\n",
    "        prune.ln_structured(layer.mlp.fc1, name=\"weight\", amount=prune_amount, n=2, dim=0)\n",
    "        prune.ln_structured(layer.mlp.fc2, name=\"weight\", amount=prune_amount, n=2, dim=0)\n",
    "\n",
    "        print(f\"Layer {i}: Pruned {prune_amount * 100}% of output channels\")\n",
    "\n",
    "prune_amount = 0.3\n",
    "structured_prune_model(updated_vision_model.vision_model, prune_amount)\n"
   ]
  },
  {
   "cell_type": "markdown",
   "metadata": {
    "id": "lEgzpXC-HzNA"
   },
   "source": [
    "#### Self-Attention Layer Pruning"
   ]
  },
  {
   "cell_type": "code",
   "execution_count": null,
   "metadata": {
    "colab": {
     "base_uri": "https://localhost:8080/"
    },
    "id": "K5SZyH40eCiq",
    "outputId": "f6929b4c-218d-499c-c804-8b7f6b992e33"
   },
   "outputs": [],
   "source": [
    "def remove_pruning_masks(vision_model):\n",
    "    for layer in vision_model.encoder.layers:\n",
    "        prune.remove(layer.self_attn.k_proj, \"weight\")\n",
    "        prune.remove(layer.self_attn.q_proj, \"weight\")\n",
    "        prune.remove(layer.self_attn.v_proj, \"weight\")\n",
    "        prune.remove(layer.self_attn.out_proj, \"weight\")\n",
    "        prune.remove(layer.mlp.fc1, \"weight\")\n",
    "        prune.remove(layer.mlp.fc2, \"weight\")\n",
    "    print(\"Pruning masks removed. Model finalized.\")\n",
    "\n",
    "remove_pruning_masks(updated_vision_model.vision_model)\n"
   ]
  },
  {
   "cell_type": "code",
   "execution_count": null,
   "metadata": {
    "colab": {
     "base_uri": "https://localhost:8080/"
    },
    "id": "_ej3oRkdey0Z",
    "outputId": "169efead-aff9-43df-c340-d2556cc6f65e"
   },
   "outputs": [],
   "source": [
    "train_embeddings, train_labels = extract_embeddings(updated_vision_model, train_loader, device)\n",
    "test_embeddings, test_labels = extract_embeddings(updated_vision_model, test_loader, device)"
   ]
  },
  {
   "cell_type": "code",
   "execution_count": null,
   "metadata": {
    "colab": {
     "base_uri": "https://localhost:8080/"
    },
    "id": "zpZn2beLe4oE",
    "outputId": "c922ab3f-d21e-4411-bdab-b1b27104a8cb"
   },
   "outputs": [],
   "source": [
    "train_and_evaluate_classifier(train_embeddings, train_labels, test_embeddings, test_labels)"
   ]
  },
  {
   "cell_type": "code",
   "execution_count": null,
   "metadata": {
    "colab": {
     "base_uri": "https://localhost:8080/"
    },
    "id": "gEHXXrSMg1lx",
    "outputId": "03e71a22-e040-4637-8694-1b27416997f7"
   },
   "outputs": [],
   "source": [
    "measure_inference_time(updated_vision_model, test_loader, device)"
   ]
  }
 ],
 "metadata": {
  "accelerator": "GPU",
  "colab": {
   "gpuType": "T4",
   "provenance": []
  },
  "kernelspec": {
   "display_name": "Python 3 (ipykernel)",
   "language": "python",
   "name": "python3"
  },
  "language_info": {
   "codemirror_mode": {
    "name": "ipython",
    "version": 3
   },
   "file_extension": ".py",
   "mimetype": "text/x-python",
   "name": "python",
   "nbconvert_exporter": "python",
   "pygments_lexer": "ipython3",
   "version": "3.12.4"
  },
  "widgets": {
   "application/vnd.jupyter.widget-state+json": {
    "088e193dcb384a9a8c575abaf650a135": {
     "model_module": "@jupyter-widgets/controls",
     "model_module_version": "1.5.0",
     "model_name": "DescriptionStyleModel",
     "state": {
      "_model_module": "@jupyter-widgets/controls",
      "_model_module_version": "1.5.0",
      "_model_name": "DescriptionStyleModel",
      "_view_count": null,
      "_view_module": "@jupyter-widgets/base",
      "_view_module_version": "1.2.0",
      "_view_name": "StyleView",
      "description_width": ""
     }
    },
    "0bbf71c0b92a44999f92a69f3dd7b540": {
     "model_module": "@jupyter-widgets/controls",
     "model_module_version": "1.5.0",
     "model_name": "FloatProgressModel",
     "state": {
      "_dom_classes": [],
      "_model_module": "@jupyter-widgets/controls",
      "_model_module_version": "1.5.0",
      "_model_name": "FloatProgressModel",
      "_view_count": null,
      "_view_module": "@jupyter-widgets/controls",
      "_view_module_version": "1.5.0",
      "_view_name": "ProgressView",
      "bar_style": "success",
      "description": "",
      "description_tooltip": null,
      "layout": "IPY_MODEL_2cf87df02f424b2f94beb40a37868d9c",
      "max": 1710540580,
      "min": 0,
      "orientation": "horizontal",
      "style": "IPY_MODEL_590db6f6b8914f83b07e20689b82a476",
      "value": 1710540580
     }
    },
    "13c02e3d08254f63a4aff09e45d40430": {
     "model_module": "@jupyter-widgets/controls",
     "model_module_version": "1.5.0",
     "model_name": "HTMLModel",
     "state": {
      "_dom_classes": [],
      "_model_module": "@jupyter-widgets/controls",
      "_model_module_version": "1.5.0",
      "_model_name": "HTMLModel",
      "_view_count": null,
      "_view_module": "@jupyter-widgets/controls",
      "_view_module_version": "1.5.0",
      "_view_name": "HTMLView",
      "description": "",
      "description_tooltip": null,
      "layout": "IPY_MODEL_a6f0d563148a44ae8f4f7448cc5b0fe0",
      "placeholder": "​",
      "style": "IPY_MODEL_6522d980a8a748e7ae3053903d16f9c2",
      "value": "model.safetensors: 100%"
     }
    },
    "1d5f8697963a48968b5160a3fdb48820": {
     "model_module": "@jupyter-widgets/base",
     "model_module_version": "1.2.0",
     "model_name": "LayoutModel",
     "state": {
      "_model_module": "@jupyter-widgets/base",
      "_model_module_version": "1.2.0",
      "_model_name": "LayoutModel",
      "_view_count": null,
      "_view_module": "@jupyter-widgets/base",
      "_view_module_version": "1.2.0",
      "_view_name": "LayoutView",
      "align_content": null,
      "align_items": null,
      "align_self": null,
      "border": null,
      "bottom": null,
      "display": null,
      "flex": null,
      "flex_flow": null,
      "grid_area": null,
      "grid_auto_columns": null,
      "grid_auto_flow": null,
      "grid_auto_rows": null,
      "grid_column": null,
      "grid_gap": null,
      "grid_row": null,
      "grid_template_areas": null,
      "grid_template_columns": null,
      "grid_template_rows": null,
      "height": null,
      "justify_content": null,
      "justify_items": null,
      "left": null,
      "margin": null,
      "max_height": null,
      "max_width": null,
      "min_height": null,
      "min_width": null,
      "object_fit": null,
      "object_position": null,
      "order": null,
      "overflow": null,
      "overflow_x": null,
      "overflow_y": null,
      "padding": null,
      "right": null,
      "top": null,
      "visibility": null,
      "width": null
     }
    },
    "2cf87df02f424b2f94beb40a37868d9c": {
     "model_module": "@jupyter-widgets/base",
     "model_module_version": "1.2.0",
     "model_name": "LayoutModel",
     "state": {
      "_model_module": "@jupyter-widgets/base",
      "_model_module_version": "1.2.0",
      "_model_name": "LayoutModel",
      "_view_count": null,
      "_view_module": "@jupyter-widgets/base",
      "_view_module_version": "1.2.0",
      "_view_name": "LayoutView",
      "align_content": null,
      "align_items": null,
      "align_self": null,
      "border": null,
      "bottom": null,
      "display": null,
      "flex": null,
      "flex_flow": null,
      "grid_area": null,
      "grid_auto_columns": null,
      "grid_auto_flow": null,
      "grid_auto_rows": null,
      "grid_column": null,
      "grid_gap": null,
      "grid_row": null,
      "grid_template_areas": null,
      "grid_template_columns": null,
      "grid_template_rows": null,
      "height": null,
      "justify_content": null,
      "justify_items": null,
      "left": null,
      "margin": null,
      "max_height": null,
      "max_width": null,
      "min_height": null,
      "min_width": null,
      "object_fit": null,
      "object_position": null,
      "order": null,
      "overflow": null,
      "overflow_x": null,
      "overflow_y": null,
      "padding": null,
      "right": null,
      "top": null,
      "visibility": null,
      "width": null
     }
    },
    "387fce6a99344029912d3c783aec56da": {
     "model_module": "@jupyter-widgets/controls",
     "model_module_version": "1.5.0",
     "model_name": "FloatProgressModel",
     "state": {
      "_dom_classes": [],
      "_model_module": "@jupyter-widgets/controls",
      "_model_module_version": "1.5.0",
      "_model_name": "FloatProgressModel",
      "_view_count": null,
      "_view_module": "@jupyter-widgets/controls",
      "_view_module_version": "1.5.0",
      "_view_name": "ProgressView",
      "bar_style": "success",
      "description": "",
      "description_tooltip": null,
      "layout": "IPY_MODEL_3adb0394f4f54aabb559654a065bdb75",
      "max": 4519,
      "min": 0,
      "orientation": "horizontal",
      "style": "IPY_MODEL_e3bc1f281c7f4ed0a68dcf72a8afdcab",
      "value": 4519
     }
    },
    "3adb0394f4f54aabb559654a065bdb75": {
     "model_module": "@jupyter-widgets/base",
     "model_module_version": "1.2.0",
     "model_name": "LayoutModel",
     "state": {
      "_model_module": "@jupyter-widgets/base",
      "_model_module_version": "1.2.0",
      "_model_name": "LayoutModel",
      "_view_count": null,
      "_view_module": "@jupyter-widgets/base",
      "_view_module_version": "1.2.0",
      "_view_name": "LayoutView",
      "align_content": null,
      "align_items": null,
      "align_self": null,
      "border": null,
      "bottom": null,
      "display": null,
      "flex": null,
      "flex_flow": null,
      "grid_area": null,
      "grid_auto_columns": null,
      "grid_auto_flow": null,
      "grid_auto_rows": null,
      "grid_column": null,
      "grid_gap": null,
      "grid_row": null,
      "grid_template_areas": null,
      "grid_template_columns": null,
      "grid_template_rows": null,
      "height": null,
      "justify_content": null,
      "justify_items": null,
      "left": null,
      "margin": null,
      "max_height": null,
      "max_width": null,
      "min_height": null,
      "min_width": null,
      "object_fit": null,
      "object_position": null,
      "order": null,
      "overflow": null,
      "overflow_x": null,
      "overflow_y": null,
      "padding": null,
      "right": null,
      "top": null,
      "visibility": null,
      "width": null
     }
    },
    "48efc4d49fc049dfb70006506c8a0c21": {
     "model_module": "@jupyter-widgets/controls",
     "model_module_version": "1.5.0",
     "model_name": "HBoxModel",
     "state": {
      "_dom_classes": [],
      "_model_module": "@jupyter-widgets/controls",
      "_model_module_version": "1.5.0",
      "_model_name": "HBoxModel",
      "_view_count": null,
      "_view_module": "@jupyter-widgets/controls",
      "_view_module_version": "1.5.0",
      "_view_name": "HBoxView",
      "box_style": "",
      "children": [
       "IPY_MODEL_f94e3d412912426f9cfa4ba9263ccf05",
       "IPY_MODEL_387fce6a99344029912d3c783aec56da",
       "IPY_MODEL_cfe8e49421d74729914e0f47eb16ade9"
      ],
      "layout": "IPY_MODEL_73483cddb46f439d9f54e773e7d87568"
     }
    },
    "57dd3d9146df4ddcad8cb781fe1e2ba0": {
     "model_module": "@jupyter-widgets/controls",
     "model_module_version": "1.5.0",
     "model_name": "HBoxModel",
     "state": {
      "_dom_classes": [],
      "_model_module": "@jupyter-widgets/controls",
      "_model_module_version": "1.5.0",
      "_model_name": "HBoxModel",
      "_view_count": null,
      "_view_module": "@jupyter-widgets/controls",
      "_view_module_version": "1.5.0",
      "_view_name": "HBoxView",
      "box_style": "",
      "children": [
       "IPY_MODEL_13c02e3d08254f63a4aff09e45d40430",
       "IPY_MODEL_0bbf71c0b92a44999f92a69f3dd7b540",
       "IPY_MODEL_c6d8eebe0d0c4bdea190ba2a7badf552"
      ],
      "layout": "IPY_MODEL_1d5f8697963a48968b5160a3fdb48820"
     }
    },
    "590db6f6b8914f83b07e20689b82a476": {
     "model_module": "@jupyter-widgets/controls",
     "model_module_version": "1.5.0",
     "model_name": "ProgressStyleModel",
     "state": {
      "_model_module": "@jupyter-widgets/controls",
      "_model_module_version": "1.5.0",
      "_model_name": "ProgressStyleModel",
      "_view_count": null,
      "_view_module": "@jupyter-widgets/base",
      "_view_module_version": "1.2.0",
      "_view_name": "StyleView",
      "bar_color": null,
      "description_width": ""
     }
    },
    "6522d980a8a748e7ae3053903d16f9c2": {
     "model_module": "@jupyter-widgets/controls",
     "model_module_version": "1.5.0",
     "model_name": "DescriptionStyleModel",
     "state": {
      "_model_module": "@jupyter-widgets/controls",
      "_model_module_version": "1.5.0",
      "_model_name": "DescriptionStyleModel",
      "_view_count": null,
      "_view_module": "@jupyter-widgets/base",
      "_view_module_version": "1.2.0",
      "_view_name": "StyleView",
      "description_width": ""
     }
    },
    "6fb9f77887c949fb992c20f13cf25af9": {
     "model_module": "@jupyter-widgets/base",
     "model_module_version": "1.2.0",
     "model_name": "LayoutModel",
     "state": {
      "_model_module": "@jupyter-widgets/base",
      "_model_module_version": "1.2.0",
      "_model_name": "LayoutModel",
      "_view_count": null,
      "_view_module": "@jupyter-widgets/base",
      "_view_module_version": "1.2.0",
      "_view_name": "LayoutView",
      "align_content": null,
      "align_items": null,
      "align_self": null,
      "border": null,
      "bottom": null,
      "display": null,
      "flex": null,
      "flex_flow": null,
      "grid_area": null,
      "grid_auto_columns": null,
      "grid_auto_flow": null,
      "grid_auto_rows": null,
      "grid_column": null,
      "grid_gap": null,
      "grid_row": null,
      "grid_template_areas": null,
      "grid_template_columns": null,
      "grid_template_rows": null,
      "height": null,
      "justify_content": null,
      "justify_items": null,
      "left": null,
      "margin": null,
      "max_height": null,
      "max_width": null,
      "min_height": null,
      "min_width": null,
      "object_fit": null,
      "object_position": null,
      "order": null,
      "overflow": null,
      "overflow_x": null,
      "overflow_y": null,
      "padding": null,
      "right": null,
      "top": null,
      "visibility": null,
      "width": null
     }
    },
    "73483cddb46f439d9f54e773e7d87568": {
     "model_module": "@jupyter-widgets/base",
     "model_module_version": "1.2.0",
     "model_name": "LayoutModel",
     "state": {
      "_model_module": "@jupyter-widgets/base",
      "_model_module_version": "1.2.0",
      "_model_name": "LayoutModel",
      "_view_count": null,
      "_view_module": "@jupyter-widgets/base",
      "_view_module_version": "1.2.0",
      "_view_name": "LayoutView",
      "align_content": null,
      "align_items": null,
      "align_self": null,
      "border": null,
      "bottom": null,
      "display": null,
      "flex": null,
      "flex_flow": null,
      "grid_area": null,
      "grid_auto_columns": null,
      "grid_auto_flow": null,
      "grid_auto_rows": null,
      "grid_column": null,
      "grid_gap": null,
      "grid_row": null,
      "grid_template_areas": null,
      "grid_template_columns": null,
      "grid_template_rows": null,
      "height": null,
      "justify_content": null,
      "justify_items": null,
      "left": null,
      "margin": null,
      "max_height": null,
      "max_width": null,
      "min_height": null,
      "min_width": null,
      "object_fit": null,
      "object_position": null,
      "order": null,
      "overflow": null,
      "overflow_x": null,
      "overflow_y": null,
      "padding": null,
      "right": null,
      "top": null,
      "visibility": null,
      "width": null
     }
    },
    "8648fdd0386640d08f311d06990d1986": {
     "model_module": "@jupyter-widgets/base",
     "model_module_version": "1.2.0",
     "model_name": "LayoutModel",
     "state": {
      "_model_module": "@jupyter-widgets/base",
      "_model_module_version": "1.2.0",
      "_model_name": "LayoutModel",
      "_view_count": null,
      "_view_module": "@jupyter-widgets/base",
      "_view_module_version": "1.2.0",
      "_view_name": "LayoutView",
      "align_content": null,
      "align_items": null,
      "align_self": null,
      "border": null,
      "bottom": null,
      "display": null,
      "flex": null,
      "flex_flow": null,
      "grid_area": null,
      "grid_auto_columns": null,
      "grid_auto_flow": null,
      "grid_auto_rows": null,
      "grid_column": null,
      "grid_gap": null,
      "grid_row": null,
      "grid_template_areas": null,
      "grid_template_columns": null,
      "grid_template_rows": null,
      "height": null,
      "justify_content": null,
      "justify_items": null,
      "left": null,
      "margin": null,
      "max_height": null,
      "max_width": null,
      "min_height": null,
      "min_width": null,
      "object_fit": null,
      "object_position": null,
      "order": null,
      "overflow": null,
      "overflow_x": null,
      "overflow_y": null,
      "padding": null,
      "right": null,
      "top": null,
      "visibility": null,
      "width": null
     }
    },
    "97271c879ddb4eb78f4f17fbf52e6de3": {
     "model_module": "@jupyter-widgets/controls",
     "model_module_version": "1.5.0",
     "model_name": "DescriptionStyleModel",
     "state": {
      "_model_module": "@jupyter-widgets/controls",
      "_model_module_version": "1.5.0",
      "_model_name": "DescriptionStyleModel",
      "_view_count": null,
      "_view_module": "@jupyter-widgets/base",
      "_view_module_version": "1.2.0",
      "_view_name": "StyleView",
      "description_width": ""
     }
    },
    "a6f0d563148a44ae8f4f7448cc5b0fe0": {
     "model_module": "@jupyter-widgets/base",
     "model_module_version": "1.2.0",
     "model_name": "LayoutModel",
     "state": {
      "_model_module": "@jupyter-widgets/base",
      "_model_module_version": "1.2.0",
      "_model_name": "LayoutModel",
      "_view_count": null,
      "_view_module": "@jupyter-widgets/base",
      "_view_module_version": "1.2.0",
      "_view_name": "LayoutView",
      "align_content": null,
      "align_items": null,
      "align_self": null,
      "border": null,
      "bottom": null,
      "display": null,
      "flex": null,
      "flex_flow": null,
      "grid_area": null,
      "grid_auto_columns": null,
      "grid_auto_flow": null,
      "grid_auto_rows": null,
      "grid_column": null,
      "grid_gap": null,
      "grid_row": null,
      "grid_template_areas": null,
      "grid_template_columns": null,
      "grid_template_rows": null,
      "height": null,
      "justify_content": null,
      "justify_items": null,
      "left": null,
      "margin": null,
      "max_height": null,
      "max_width": null,
      "min_height": null,
      "min_width": null,
      "object_fit": null,
      "object_position": null,
      "order": null,
      "overflow": null,
      "overflow_x": null,
      "overflow_y": null,
      "padding": null,
      "right": null,
      "top": null,
      "visibility": null,
      "width": null
     }
    },
    "ba541e3388824405b80b647bf4009ddd": {
     "model_module": "@jupyter-widgets/base",
     "model_module_version": "1.2.0",
     "model_name": "LayoutModel",
     "state": {
      "_model_module": "@jupyter-widgets/base",
      "_model_module_version": "1.2.0",
      "_model_name": "LayoutModel",
      "_view_count": null,
      "_view_module": "@jupyter-widgets/base",
      "_view_module_version": "1.2.0",
      "_view_name": "LayoutView",
      "align_content": null,
      "align_items": null,
      "align_self": null,
      "border": null,
      "bottom": null,
      "display": null,
      "flex": null,
      "flex_flow": null,
      "grid_area": null,
      "grid_auto_columns": null,
      "grid_auto_flow": null,
      "grid_auto_rows": null,
      "grid_column": null,
      "grid_gap": null,
      "grid_row": null,
      "grid_template_areas": null,
      "grid_template_columns": null,
      "grid_template_rows": null,
      "height": null,
      "justify_content": null,
      "justify_items": null,
      "left": null,
      "margin": null,
      "max_height": null,
      "max_width": null,
      "min_height": null,
      "min_width": null,
      "object_fit": null,
      "object_position": null,
      "order": null,
      "overflow": null,
      "overflow_x": null,
      "overflow_y": null,
      "padding": null,
      "right": null,
      "top": null,
      "visibility": null,
      "width": null
     }
    },
    "c6d8eebe0d0c4bdea190ba2a7badf552": {
     "model_module": "@jupyter-widgets/controls",
     "model_module_version": "1.5.0",
     "model_name": "HTMLModel",
     "state": {
      "_dom_classes": [],
      "_model_module": "@jupyter-widgets/controls",
      "_model_module_version": "1.5.0",
      "_model_name": "HTMLModel",
      "_view_count": null,
      "_view_module": "@jupyter-widgets/controls",
      "_view_module_version": "1.5.0",
      "_view_name": "HTMLView",
      "description": "",
      "description_tooltip": null,
      "layout": "IPY_MODEL_8648fdd0386640d08f311d06990d1986",
      "placeholder": "​",
      "style": "IPY_MODEL_cafaac9b8fab46daa30764448bc796d4",
      "value": " 1.71G/1.71G [00:10&lt;00:00, 191MB/s]"
     }
    },
    "cafaac9b8fab46daa30764448bc796d4": {
     "model_module": "@jupyter-widgets/controls",
     "model_module_version": "1.5.0",
     "model_name": "DescriptionStyleModel",
     "state": {
      "_model_module": "@jupyter-widgets/controls",
      "_model_module_version": "1.5.0",
      "_model_name": "DescriptionStyleModel",
      "_view_count": null,
      "_view_module": "@jupyter-widgets/base",
      "_view_module_version": "1.2.0",
      "_view_name": "StyleView",
      "description_width": ""
     }
    },
    "cfe8e49421d74729914e0f47eb16ade9": {
     "model_module": "@jupyter-widgets/controls",
     "model_module_version": "1.5.0",
     "model_name": "HTMLModel",
     "state": {
      "_dom_classes": [],
      "_model_module": "@jupyter-widgets/controls",
      "_model_module_version": "1.5.0",
      "_model_name": "HTMLModel",
      "_view_count": null,
      "_view_module": "@jupyter-widgets/controls",
      "_view_module_version": "1.5.0",
      "_view_name": "HTMLView",
      "description": "",
      "description_tooltip": null,
      "layout": "IPY_MODEL_ba541e3388824405b80b647bf4009ddd",
      "placeholder": "​",
      "style": "IPY_MODEL_088e193dcb384a9a8c575abaf650a135",
      "value": " 4.52k/4.52k [00:00&lt;00:00, 291kB/s]"
     }
    },
    "e3bc1f281c7f4ed0a68dcf72a8afdcab": {
     "model_module": "@jupyter-widgets/controls",
     "model_module_version": "1.5.0",
     "model_name": "ProgressStyleModel",
     "state": {
      "_model_module": "@jupyter-widgets/controls",
      "_model_module_version": "1.5.0",
      "_model_name": "ProgressStyleModel",
      "_view_count": null,
      "_view_module": "@jupyter-widgets/base",
      "_view_module_version": "1.2.0",
      "_view_name": "StyleView",
      "bar_color": null,
      "description_width": ""
     }
    },
    "f94e3d412912426f9cfa4ba9263ccf05": {
     "model_module": "@jupyter-widgets/controls",
     "model_module_version": "1.5.0",
     "model_name": "HTMLModel",
     "state": {
      "_dom_classes": [],
      "_model_module": "@jupyter-widgets/controls",
      "_model_module_version": "1.5.0",
      "_model_name": "HTMLModel",
      "_view_count": null,
      "_view_module": "@jupyter-widgets/controls",
      "_view_module_version": "1.5.0",
      "_view_name": "HTMLView",
      "description": "",
      "description_tooltip": null,
      "layout": "IPY_MODEL_6fb9f77887c949fb992c20f13cf25af9",
      "placeholder": "​",
      "style": "IPY_MODEL_97271c879ddb4eb78f4f17fbf52e6de3",
      "value": "config.json: 100%"
     }
    }
   }
  }
 },
 "nbformat": 4,
 "nbformat_minor": 4
}
