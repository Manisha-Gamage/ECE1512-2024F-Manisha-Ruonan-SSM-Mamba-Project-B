{
  "nbformat": 4,
  "nbformat_minor": 0,
  "metadata": {
    "colab": {
      "provenance": [],
      "gpuType": "T4"
    },
    "kernelspec": {
      "name": "python3",
      "display_name": "Python 3"
    },
    "language_info": {
      "name": "python"
    },
    "accelerator": "GPU",
    "widgets": {
      "application/vnd.jupyter.widget-state+json": {
        "48efc4d49fc049dfb70006506c8a0c21": {
          "model_module": "@jupyter-widgets/controls",
          "model_name": "HBoxModel",
          "model_module_version": "1.5.0",
          "state": {
            "_dom_classes": [],
            "_model_module": "@jupyter-widgets/controls",
            "_model_module_version": "1.5.0",
            "_model_name": "HBoxModel",
            "_view_count": null,
            "_view_module": "@jupyter-widgets/controls",
            "_view_module_version": "1.5.0",
            "_view_name": "HBoxView",
            "box_style": "",
            "children": [
              "IPY_MODEL_f94e3d412912426f9cfa4ba9263ccf05",
              "IPY_MODEL_387fce6a99344029912d3c783aec56da",
              "IPY_MODEL_cfe8e49421d74729914e0f47eb16ade9"
            ],
            "layout": "IPY_MODEL_73483cddb46f439d9f54e773e7d87568"
          }
        },
        "f94e3d412912426f9cfa4ba9263ccf05": {
          "model_module": "@jupyter-widgets/controls",
          "model_name": "HTMLModel",
          "model_module_version": "1.5.0",
          "state": {
            "_dom_classes": [],
            "_model_module": "@jupyter-widgets/controls",
            "_model_module_version": "1.5.0",
            "_model_name": "HTMLModel",
            "_view_count": null,
            "_view_module": "@jupyter-widgets/controls",
            "_view_module_version": "1.5.0",
            "_view_name": "HTMLView",
            "description": "",
            "description_tooltip": null,
            "layout": "IPY_MODEL_6fb9f77887c949fb992c20f13cf25af9",
            "placeholder": "​",
            "style": "IPY_MODEL_97271c879ddb4eb78f4f17fbf52e6de3",
            "value": "config.json: 100%"
          }
        },
        "387fce6a99344029912d3c783aec56da": {
          "model_module": "@jupyter-widgets/controls",
          "model_name": "FloatProgressModel",
          "model_module_version": "1.5.0",
          "state": {
            "_dom_classes": [],
            "_model_module": "@jupyter-widgets/controls",
            "_model_module_version": "1.5.0",
            "_model_name": "FloatProgressModel",
            "_view_count": null,
            "_view_module": "@jupyter-widgets/controls",
            "_view_module_version": "1.5.0",
            "_view_name": "ProgressView",
            "bar_style": "success",
            "description": "",
            "description_tooltip": null,
            "layout": "IPY_MODEL_3adb0394f4f54aabb559654a065bdb75",
            "max": 4519,
            "min": 0,
            "orientation": "horizontal",
            "style": "IPY_MODEL_e3bc1f281c7f4ed0a68dcf72a8afdcab",
            "value": 4519
          }
        },
        "cfe8e49421d74729914e0f47eb16ade9": {
          "model_module": "@jupyter-widgets/controls",
          "model_name": "HTMLModel",
          "model_module_version": "1.5.0",
          "state": {
            "_dom_classes": [],
            "_model_module": "@jupyter-widgets/controls",
            "_model_module_version": "1.5.0",
            "_model_name": "HTMLModel",
            "_view_count": null,
            "_view_module": "@jupyter-widgets/controls",
            "_view_module_version": "1.5.0",
            "_view_name": "HTMLView",
            "description": "",
            "description_tooltip": null,
            "layout": "IPY_MODEL_ba541e3388824405b80b647bf4009ddd",
            "placeholder": "​",
            "style": "IPY_MODEL_088e193dcb384a9a8c575abaf650a135",
            "value": " 4.52k/4.52k [00:00&lt;00:00, 291kB/s]"
          }
        },
        "73483cddb46f439d9f54e773e7d87568": {
          "model_module": "@jupyter-widgets/base",
          "model_name": "LayoutModel",
          "model_module_version": "1.2.0",
          "state": {
            "_model_module": "@jupyter-widgets/base",
            "_model_module_version": "1.2.0",
            "_model_name": "LayoutModel",
            "_view_count": null,
            "_view_module": "@jupyter-widgets/base",
            "_view_module_version": "1.2.0",
            "_view_name": "LayoutView",
            "align_content": null,
            "align_items": null,
            "align_self": null,
            "border": null,
            "bottom": null,
            "display": null,
            "flex": null,
            "flex_flow": null,
            "grid_area": null,
            "grid_auto_columns": null,
            "grid_auto_flow": null,
            "grid_auto_rows": null,
            "grid_column": null,
            "grid_gap": null,
            "grid_row": null,
            "grid_template_areas": null,
            "grid_template_columns": null,
            "grid_template_rows": null,
            "height": null,
            "justify_content": null,
            "justify_items": null,
            "left": null,
            "margin": null,
            "max_height": null,
            "max_width": null,
            "min_height": null,
            "min_width": null,
            "object_fit": null,
            "object_position": null,
            "order": null,
            "overflow": null,
            "overflow_x": null,
            "overflow_y": null,
            "padding": null,
            "right": null,
            "top": null,
            "visibility": null,
            "width": null
          }
        },
        "6fb9f77887c949fb992c20f13cf25af9": {
          "model_module": "@jupyter-widgets/base",
          "model_name": "LayoutModel",
          "model_module_version": "1.2.0",
          "state": {
            "_model_module": "@jupyter-widgets/base",
            "_model_module_version": "1.2.0",
            "_model_name": "LayoutModel",
            "_view_count": null,
            "_view_module": "@jupyter-widgets/base",
            "_view_module_version": "1.2.0",
            "_view_name": "LayoutView",
            "align_content": null,
            "align_items": null,
            "align_self": null,
            "border": null,
            "bottom": null,
            "display": null,
            "flex": null,
            "flex_flow": null,
            "grid_area": null,
            "grid_auto_columns": null,
            "grid_auto_flow": null,
            "grid_auto_rows": null,
            "grid_column": null,
            "grid_gap": null,
            "grid_row": null,
            "grid_template_areas": null,
            "grid_template_columns": null,
            "grid_template_rows": null,
            "height": null,
            "justify_content": null,
            "justify_items": null,
            "left": null,
            "margin": null,
            "max_height": null,
            "max_width": null,
            "min_height": null,
            "min_width": null,
            "object_fit": null,
            "object_position": null,
            "order": null,
            "overflow": null,
            "overflow_x": null,
            "overflow_y": null,
            "padding": null,
            "right": null,
            "top": null,
            "visibility": null,
            "width": null
          }
        },
        "97271c879ddb4eb78f4f17fbf52e6de3": {
          "model_module": "@jupyter-widgets/controls",
          "model_name": "DescriptionStyleModel",
          "model_module_version": "1.5.0",
          "state": {
            "_model_module": "@jupyter-widgets/controls",
            "_model_module_version": "1.5.0",
            "_model_name": "DescriptionStyleModel",
            "_view_count": null,
            "_view_module": "@jupyter-widgets/base",
            "_view_module_version": "1.2.0",
            "_view_name": "StyleView",
            "description_width": ""
          }
        },
        "3adb0394f4f54aabb559654a065bdb75": {
          "model_module": "@jupyter-widgets/base",
          "model_name": "LayoutModel",
          "model_module_version": "1.2.0",
          "state": {
            "_model_module": "@jupyter-widgets/base",
            "_model_module_version": "1.2.0",
            "_model_name": "LayoutModel",
            "_view_count": null,
            "_view_module": "@jupyter-widgets/base",
            "_view_module_version": "1.2.0",
            "_view_name": "LayoutView",
            "align_content": null,
            "align_items": null,
            "align_self": null,
            "border": null,
            "bottom": null,
            "display": null,
            "flex": null,
            "flex_flow": null,
            "grid_area": null,
            "grid_auto_columns": null,
            "grid_auto_flow": null,
            "grid_auto_rows": null,
            "grid_column": null,
            "grid_gap": null,
            "grid_row": null,
            "grid_template_areas": null,
            "grid_template_columns": null,
            "grid_template_rows": null,
            "height": null,
            "justify_content": null,
            "justify_items": null,
            "left": null,
            "margin": null,
            "max_height": null,
            "max_width": null,
            "min_height": null,
            "min_width": null,
            "object_fit": null,
            "object_position": null,
            "order": null,
            "overflow": null,
            "overflow_x": null,
            "overflow_y": null,
            "padding": null,
            "right": null,
            "top": null,
            "visibility": null,
            "width": null
          }
        },
        "e3bc1f281c7f4ed0a68dcf72a8afdcab": {
          "model_module": "@jupyter-widgets/controls",
          "model_name": "ProgressStyleModel",
          "model_module_version": "1.5.0",
          "state": {
            "_model_module": "@jupyter-widgets/controls",
            "_model_module_version": "1.5.0",
            "_model_name": "ProgressStyleModel",
            "_view_count": null,
            "_view_module": "@jupyter-widgets/base",
            "_view_module_version": "1.2.0",
            "_view_name": "StyleView",
            "bar_color": null,
            "description_width": ""
          }
        },
        "ba541e3388824405b80b647bf4009ddd": {
          "model_module": "@jupyter-widgets/base",
          "model_name": "LayoutModel",
          "model_module_version": "1.2.0",
          "state": {
            "_model_module": "@jupyter-widgets/base",
            "_model_module_version": "1.2.0",
            "_model_name": "LayoutModel",
            "_view_count": null,
            "_view_module": "@jupyter-widgets/base",
            "_view_module_version": "1.2.0",
            "_view_name": "LayoutView",
            "align_content": null,
            "align_items": null,
            "align_self": null,
            "border": null,
            "bottom": null,
            "display": null,
            "flex": null,
            "flex_flow": null,
            "grid_area": null,
            "grid_auto_columns": null,
            "grid_auto_flow": null,
            "grid_auto_rows": null,
            "grid_column": null,
            "grid_gap": null,
            "grid_row": null,
            "grid_template_areas": null,
            "grid_template_columns": null,
            "grid_template_rows": null,
            "height": null,
            "justify_content": null,
            "justify_items": null,
            "left": null,
            "margin": null,
            "max_height": null,
            "max_width": null,
            "min_height": null,
            "min_width": null,
            "object_fit": null,
            "object_position": null,
            "order": null,
            "overflow": null,
            "overflow_x": null,
            "overflow_y": null,
            "padding": null,
            "right": null,
            "top": null,
            "visibility": null,
            "width": null
          }
        },
        "088e193dcb384a9a8c575abaf650a135": {
          "model_module": "@jupyter-widgets/controls",
          "model_name": "DescriptionStyleModel",
          "model_module_version": "1.5.0",
          "state": {
            "_model_module": "@jupyter-widgets/controls",
            "_model_module_version": "1.5.0",
            "_model_name": "DescriptionStyleModel",
            "_view_count": null,
            "_view_module": "@jupyter-widgets/base",
            "_view_module_version": "1.2.0",
            "_view_name": "StyleView",
            "description_width": ""
          }
        },
        "57dd3d9146df4ddcad8cb781fe1e2ba0": {
          "model_module": "@jupyter-widgets/controls",
          "model_name": "HBoxModel",
          "model_module_version": "1.5.0",
          "state": {
            "_dom_classes": [],
            "_model_module": "@jupyter-widgets/controls",
            "_model_module_version": "1.5.0",
            "_model_name": "HBoxModel",
            "_view_count": null,
            "_view_module": "@jupyter-widgets/controls",
            "_view_module_version": "1.5.0",
            "_view_name": "HBoxView",
            "box_style": "",
            "children": [
              "IPY_MODEL_13c02e3d08254f63a4aff09e45d40430",
              "IPY_MODEL_0bbf71c0b92a44999f92a69f3dd7b540",
              "IPY_MODEL_c6d8eebe0d0c4bdea190ba2a7badf552"
            ],
            "layout": "IPY_MODEL_1d5f8697963a48968b5160a3fdb48820"
          }
        },
        "13c02e3d08254f63a4aff09e45d40430": {
          "model_module": "@jupyter-widgets/controls",
          "model_name": "HTMLModel",
          "model_module_version": "1.5.0",
          "state": {
            "_dom_classes": [],
            "_model_module": "@jupyter-widgets/controls",
            "_model_module_version": "1.5.0",
            "_model_name": "HTMLModel",
            "_view_count": null,
            "_view_module": "@jupyter-widgets/controls",
            "_view_module_version": "1.5.0",
            "_view_name": "HTMLView",
            "description": "",
            "description_tooltip": null,
            "layout": "IPY_MODEL_a6f0d563148a44ae8f4f7448cc5b0fe0",
            "placeholder": "​",
            "style": "IPY_MODEL_6522d980a8a748e7ae3053903d16f9c2",
            "value": "model.safetensors: 100%"
          }
        },
        "0bbf71c0b92a44999f92a69f3dd7b540": {
          "model_module": "@jupyter-widgets/controls",
          "model_name": "FloatProgressModel",
          "model_module_version": "1.5.0",
          "state": {
            "_dom_classes": [],
            "_model_module": "@jupyter-widgets/controls",
            "_model_module_version": "1.5.0",
            "_model_name": "FloatProgressModel",
            "_view_count": null,
            "_view_module": "@jupyter-widgets/controls",
            "_view_module_version": "1.5.0",
            "_view_name": "ProgressView",
            "bar_style": "success",
            "description": "",
            "description_tooltip": null,
            "layout": "IPY_MODEL_2cf87df02f424b2f94beb40a37868d9c",
            "max": 1710540580,
            "min": 0,
            "orientation": "horizontal",
            "style": "IPY_MODEL_590db6f6b8914f83b07e20689b82a476",
            "value": 1710540580
          }
        },
        "c6d8eebe0d0c4bdea190ba2a7badf552": {
          "model_module": "@jupyter-widgets/controls",
          "model_name": "HTMLModel",
          "model_module_version": "1.5.0",
          "state": {
            "_dom_classes": [],
            "_model_module": "@jupyter-widgets/controls",
            "_model_module_version": "1.5.0",
            "_model_name": "HTMLModel",
            "_view_count": null,
            "_view_module": "@jupyter-widgets/controls",
            "_view_module_version": "1.5.0",
            "_view_name": "HTMLView",
            "description": "",
            "description_tooltip": null,
            "layout": "IPY_MODEL_8648fdd0386640d08f311d06990d1986",
            "placeholder": "​",
            "style": "IPY_MODEL_cafaac9b8fab46daa30764448bc796d4",
            "value": " 1.71G/1.71G [00:10&lt;00:00, 191MB/s]"
          }
        },
        "1d5f8697963a48968b5160a3fdb48820": {
          "model_module": "@jupyter-widgets/base",
          "model_name": "LayoutModel",
          "model_module_version": "1.2.0",
          "state": {
            "_model_module": "@jupyter-widgets/base",
            "_model_module_version": "1.2.0",
            "_model_name": "LayoutModel",
            "_view_count": null,
            "_view_module": "@jupyter-widgets/base",
            "_view_module_version": "1.2.0",
            "_view_name": "LayoutView",
            "align_content": null,
            "align_items": null,
            "align_self": null,
            "border": null,
            "bottom": null,
            "display": null,
            "flex": null,
            "flex_flow": null,
            "grid_area": null,
            "grid_auto_columns": null,
            "grid_auto_flow": null,
            "grid_auto_rows": null,
            "grid_column": null,
            "grid_gap": null,
            "grid_row": null,
            "grid_template_areas": null,
            "grid_template_columns": null,
            "grid_template_rows": null,
            "height": null,
            "justify_content": null,
            "justify_items": null,
            "left": null,
            "margin": null,
            "max_height": null,
            "max_width": null,
            "min_height": null,
            "min_width": null,
            "object_fit": null,
            "object_position": null,
            "order": null,
            "overflow": null,
            "overflow_x": null,
            "overflow_y": null,
            "padding": null,
            "right": null,
            "top": null,
            "visibility": null,
            "width": null
          }
        },
        "a6f0d563148a44ae8f4f7448cc5b0fe0": {
          "model_module": "@jupyter-widgets/base",
          "model_name": "LayoutModel",
          "model_module_version": "1.2.0",
          "state": {
            "_model_module": "@jupyter-widgets/base",
            "_model_module_version": "1.2.0",
            "_model_name": "LayoutModel",
            "_view_count": null,
            "_view_module": "@jupyter-widgets/base",
            "_view_module_version": "1.2.0",
            "_view_name": "LayoutView",
            "align_content": null,
            "align_items": null,
            "align_self": null,
            "border": null,
            "bottom": null,
            "display": null,
            "flex": null,
            "flex_flow": null,
            "grid_area": null,
            "grid_auto_columns": null,
            "grid_auto_flow": null,
            "grid_auto_rows": null,
            "grid_column": null,
            "grid_gap": null,
            "grid_row": null,
            "grid_template_areas": null,
            "grid_template_columns": null,
            "grid_template_rows": null,
            "height": null,
            "justify_content": null,
            "justify_items": null,
            "left": null,
            "margin": null,
            "max_height": null,
            "max_width": null,
            "min_height": null,
            "min_width": null,
            "object_fit": null,
            "object_position": null,
            "order": null,
            "overflow": null,
            "overflow_x": null,
            "overflow_y": null,
            "padding": null,
            "right": null,
            "top": null,
            "visibility": null,
            "width": null
          }
        },
        "6522d980a8a748e7ae3053903d16f9c2": {
          "model_module": "@jupyter-widgets/controls",
          "model_name": "DescriptionStyleModel",
          "model_module_version": "1.5.0",
          "state": {
            "_model_module": "@jupyter-widgets/controls",
            "_model_module_version": "1.5.0",
            "_model_name": "DescriptionStyleModel",
            "_view_count": null,
            "_view_module": "@jupyter-widgets/base",
            "_view_module_version": "1.2.0",
            "_view_name": "StyleView",
            "description_width": ""
          }
        },
        "2cf87df02f424b2f94beb40a37868d9c": {
          "model_module": "@jupyter-widgets/base",
          "model_name": "LayoutModel",
          "model_module_version": "1.2.0",
          "state": {
            "_model_module": "@jupyter-widgets/base",
            "_model_module_version": "1.2.0",
            "_model_name": "LayoutModel",
            "_view_count": null,
            "_view_module": "@jupyter-widgets/base",
            "_view_module_version": "1.2.0",
            "_view_name": "LayoutView",
            "align_content": null,
            "align_items": null,
            "align_self": null,
            "border": null,
            "bottom": null,
            "display": null,
            "flex": null,
            "flex_flow": null,
            "grid_area": null,
            "grid_auto_columns": null,
            "grid_auto_flow": null,
            "grid_auto_rows": null,
            "grid_column": null,
            "grid_gap": null,
            "grid_row": null,
            "grid_template_areas": null,
            "grid_template_columns": null,
            "grid_template_rows": null,
            "height": null,
            "justify_content": null,
            "justify_items": null,
            "left": null,
            "margin": null,
            "max_height": null,
            "max_width": null,
            "min_height": null,
            "min_width": null,
            "object_fit": null,
            "object_position": null,
            "order": null,
            "overflow": null,
            "overflow_x": null,
            "overflow_y": null,
            "padding": null,
            "right": null,
            "top": null,
            "visibility": null,
            "width": null
          }
        },
        "590db6f6b8914f83b07e20689b82a476": {
          "model_module": "@jupyter-widgets/controls",
          "model_name": "ProgressStyleModel",
          "model_module_version": "1.5.0",
          "state": {
            "_model_module": "@jupyter-widgets/controls",
            "_model_module_version": "1.5.0",
            "_model_name": "ProgressStyleModel",
            "_view_count": null,
            "_view_module": "@jupyter-widgets/base",
            "_view_module_version": "1.2.0",
            "_view_name": "StyleView",
            "bar_color": null,
            "description_width": ""
          }
        },
        "8648fdd0386640d08f311d06990d1986": {
          "model_module": "@jupyter-widgets/base",
          "model_name": "LayoutModel",
          "model_module_version": "1.2.0",
          "state": {
            "_model_module": "@jupyter-widgets/base",
            "_model_module_version": "1.2.0",
            "_model_name": "LayoutModel",
            "_view_count": null,
            "_view_module": "@jupyter-widgets/base",
            "_view_module_version": "1.2.0",
            "_view_name": "LayoutView",
            "align_content": null,
            "align_items": null,
            "align_self": null,
            "border": null,
            "bottom": null,
            "display": null,
            "flex": null,
            "flex_flow": null,
            "grid_area": null,
            "grid_auto_columns": null,
            "grid_auto_flow": null,
            "grid_auto_rows": null,
            "grid_column": null,
            "grid_gap": null,
            "grid_row": null,
            "grid_template_areas": null,
            "grid_template_columns": null,
            "grid_template_rows": null,
            "height": null,
            "justify_content": null,
            "justify_items": null,
            "left": null,
            "margin": null,
            "max_height": null,
            "max_width": null,
            "min_height": null,
            "min_width": null,
            "object_fit": null,
            "object_position": null,
            "order": null,
            "overflow": null,
            "overflow_x": null,
            "overflow_y": null,
            "padding": null,
            "right": null,
            "top": null,
            "visibility": null,
            "width": null
          }
        },
        "cafaac9b8fab46daa30764448bc796d4": {
          "model_module": "@jupyter-widgets/controls",
          "model_name": "DescriptionStyleModel",
          "model_module_version": "1.5.0",
          "state": {
            "_model_module": "@jupyter-widgets/controls",
            "_model_module_version": "1.5.0",
            "_model_name": "DescriptionStyleModel",
            "_view_count": null,
            "_view_module": "@jupyter-widgets/base",
            "_view_module_version": "1.2.0",
            "_view_name": "StyleView",
            "description_width": ""
          }
        }
      }
    }
  },
  "cells": [
    {
      "cell_type": "code",
      "execution_count": 1,
      "metadata": {
        "colab": {
          "base_uri": "https://localhost:8080/"
        },
        "id": "wiloVbxTGMd9",
        "outputId": "14569767-b8e2-4335-f59f-5e975af86a0e"
      },
      "outputs": [
        {
          "output_type": "stream",
          "name": "stdout",
          "text": [
            "Mounted at /content/drive\n"
          ]
        }
      ],
      "source": [
        "from google.colab import drive\n",
        "drive.mount('/content/drive')"
      ]
    },
    {
      "cell_type": "code",
      "source": [
        "%cd drive/MyDrive/ece_project2/vila\n",
        "!pwd"
      ],
      "metadata": {
        "colab": {
          "base_uri": "https://localhost:8080/"
        },
        "id": "kiBLtLpvGTx0",
        "outputId": "09ebbda5-bed1-49da-a7be-dc1819a0f45d"
      },
      "execution_count": 2,
      "outputs": [
        {
          "output_type": "stream",
          "name": "stdout",
          "text": [
            "/content/drive/MyDrive/ece_project2/vila\n",
            "/content/drive/MyDrive/ece_project2/vila\n"
          ]
        }
      ]
    },
    {
      "cell_type": "code",
      "source": [
        "#!/bin/bash\n",
        "# !kaggle datasets download agrigorev/clothing-dataset-full"
      ],
      "metadata": {
        "colab": {
          "base_uri": "https://localhost:8080/"
        },
        "id": "EAKVbuyfGtzo",
        "outputId": "55ee5312-4396-4843-d6cf-579deadcae3b"
      },
      "execution_count": 4,
      "outputs": [
        {
          "output_type": "stream",
          "name": "stdout",
          "text": [
            "Dataset URL: https://www.kaggle.com/datasets/agrigorev/clothing-dataset-full\n",
            "License(s): CC0-1.0\n",
            "Downloading clothing-dataset-full.zip to /content/drive/MyDrive/ece_project2/vila\n",
            "100% 6.50G/6.50G [04:49<00:00, 25.9MB/s]\n",
            "100% 6.50G/6.50G [04:49<00:00, 24.1MB/s]\n"
          ]
        }
      ]
    },
    {
      "cell_type": "code",
      "source": [
        "# !unzip clothing-dataset-full.zip -d clothing-dataset-full"
      ],
      "metadata": {
        "collapsed": true,
        "id": "sSTkGMAbGzjq"
      },
      "execution_count": null,
      "outputs": []
    },
    {
      "cell_type": "code",
      "source": [
        "from huggingface_hub import login\n",
        "import getpass\n",
        "\n",
        "# Prompt the user to enter their Hugging Face Token\n",
        "hf_token = getpass.getpass(\"Enter your Hugging Face Token: \")\n",
        "\n",
        "# Use the token to log in to Hugging Face\n",
        "login(token=hf_token)\n",
        "\n",
        "print(\"Successfully authenticated with Hugging Face!\")"
      ],
      "metadata": {
        "colab": {
          "base_uri": "https://localhost:8080/"
        },
        "id": "fKqZTWK0MCUX",
        "outputId": "2948d897-bbf2-4975-f6c1-3663bbdf8426"
      },
      "execution_count": 6,
      "outputs": [
        {
          "output_type": "stream",
          "name": "stdout",
          "text": [
            "Enter your Hugging Face Token: ··········\n",
            "Successfully authenticated with Hugging Face!\n"
          ]
        }
      ]
    },
    {
      "cell_type": "markdown",
      "source": [
        "### *Step* 1: Filter T-shirts and pants dataset"
      ],
      "metadata": {
        "id": "cQgmcNERLkT2"
      }
    },
    {
      "cell_type": "code",
      "source": [
        "import os\n",
        "import shutil\n",
        "import pandas as pd\n",
        "\n",
        "dest_dataset_dir = \"./dataset\"\n",
        "os.makedirs(dest_dataset_dir, exist_ok=True)\n",
        "\n",
        "tshirt_dir = os.path.join(dest_dataset_dir, \"tshirt\")\n",
        "pants_dir = os.path.join(dest_dataset_dir, \"pants\")\n",
        "os.makedirs(tshirt_dir, exist_ok=True)\n",
        "os.makedirs(pants_dir, exist_ok=True)\n"
      ],
      "metadata": {
        "id": "8zZmVwipLj_1"
      },
      "execution_count": 3,
      "outputs": []
    },
    {
      "cell_type": "code",
      "source": [
        "csv_file = \"./clothing-dataset-full/images.csv\"\n",
        "\n",
        "df = pd.read_csv(csv_file)\n",
        "df.head()\n"
      ],
      "metadata": {
        "colab": {
          "base_uri": "https://localhost:8080/",
          "height": 206
        },
        "id": "jwO84379MU4T",
        "outputId": "75412718-1bb8-4649-dd66-cdba02f34bb5"
      },
      "execution_count": 4,
      "outputs": [
        {
          "output_type": "execute_result",
          "data": {
            "text/plain": [
              "                                  image  sender_id     label   kids\n",
              "0  4285fab0-751a-4b74-8e9b-43af05deee22        124  Not sure  False\n",
              "1  ea7b6656-3f84-4eb3-9099-23e623fc1018        148   T-Shirt  False\n",
              "2  00627a3f-0477-401c-95eb-92642cbe078d         94  Not sure  False\n",
              "3  ea2ffd4d-9b25-4ca8-9dc2-bd27f1cc59fa         43   T-Shirt  False\n",
              "4  3b86d877-2b9e-4c8b-a6a2-1d87513309d0        189     Shoes  False"
            ],
            "text/html": [
              "\n",
              "  <div id=\"df-92fd84f0-a464-453e-9da1-065952154316\" class=\"colab-df-container\">\n",
              "    <div>\n",
              "<style scoped>\n",
              "    .dataframe tbody tr th:only-of-type {\n",
              "        vertical-align: middle;\n",
              "    }\n",
              "\n",
              "    .dataframe tbody tr th {\n",
              "        vertical-align: top;\n",
              "    }\n",
              "\n",
              "    .dataframe thead th {\n",
              "        text-align: right;\n",
              "    }\n",
              "</style>\n",
              "<table border=\"1\" class=\"dataframe\">\n",
              "  <thead>\n",
              "    <tr style=\"text-align: right;\">\n",
              "      <th></th>\n",
              "      <th>image</th>\n",
              "      <th>sender_id</th>\n",
              "      <th>label</th>\n",
              "      <th>kids</th>\n",
              "    </tr>\n",
              "  </thead>\n",
              "  <tbody>\n",
              "    <tr>\n",
              "      <th>0</th>\n",
              "      <td>4285fab0-751a-4b74-8e9b-43af05deee22</td>\n",
              "      <td>124</td>\n",
              "      <td>Not sure</td>\n",
              "      <td>False</td>\n",
              "    </tr>\n",
              "    <tr>\n",
              "      <th>1</th>\n",
              "      <td>ea7b6656-3f84-4eb3-9099-23e623fc1018</td>\n",
              "      <td>148</td>\n",
              "      <td>T-Shirt</td>\n",
              "      <td>False</td>\n",
              "    </tr>\n",
              "    <tr>\n",
              "      <th>2</th>\n",
              "      <td>00627a3f-0477-401c-95eb-92642cbe078d</td>\n",
              "      <td>94</td>\n",
              "      <td>Not sure</td>\n",
              "      <td>False</td>\n",
              "    </tr>\n",
              "    <tr>\n",
              "      <th>3</th>\n",
              "      <td>ea2ffd4d-9b25-4ca8-9dc2-bd27f1cc59fa</td>\n",
              "      <td>43</td>\n",
              "      <td>T-Shirt</td>\n",
              "      <td>False</td>\n",
              "    </tr>\n",
              "    <tr>\n",
              "      <th>4</th>\n",
              "      <td>3b86d877-2b9e-4c8b-a6a2-1d87513309d0</td>\n",
              "      <td>189</td>\n",
              "      <td>Shoes</td>\n",
              "      <td>False</td>\n",
              "    </tr>\n",
              "  </tbody>\n",
              "</table>\n",
              "</div>\n",
              "    <div class=\"colab-df-buttons\">\n",
              "\n",
              "  <div class=\"colab-df-container\">\n",
              "    <button class=\"colab-df-convert\" onclick=\"convertToInteractive('df-92fd84f0-a464-453e-9da1-065952154316')\"\n",
              "            title=\"Convert this dataframe to an interactive table.\"\n",
              "            style=\"display:none;\">\n",
              "\n",
              "  <svg xmlns=\"http://www.w3.org/2000/svg\" height=\"24px\" viewBox=\"0 -960 960 960\">\n",
              "    <path d=\"M120-120v-720h720v720H120Zm60-500h600v-160H180v160Zm220 220h160v-160H400v160Zm0 220h160v-160H400v160ZM180-400h160v-160H180v160Zm440 0h160v-160H620v160ZM180-180h160v-160H180v160Zm440 0h160v-160H620v160Z\"/>\n",
              "  </svg>\n",
              "    </button>\n",
              "\n",
              "  <style>\n",
              "    .colab-df-container {\n",
              "      display:flex;\n",
              "      gap: 12px;\n",
              "    }\n",
              "\n",
              "    .colab-df-convert {\n",
              "      background-color: #E8F0FE;\n",
              "      border: none;\n",
              "      border-radius: 50%;\n",
              "      cursor: pointer;\n",
              "      display: none;\n",
              "      fill: #1967D2;\n",
              "      height: 32px;\n",
              "      padding: 0 0 0 0;\n",
              "      width: 32px;\n",
              "    }\n",
              "\n",
              "    .colab-df-convert:hover {\n",
              "      background-color: #E2EBFA;\n",
              "      box-shadow: 0px 1px 2px rgba(60, 64, 67, 0.3), 0px 1px 3px 1px rgba(60, 64, 67, 0.15);\n",
              "      fill: #174EA6;\n",
              "    }\n",
              "\n",
              "    .colab-df-buttons div {\n",
              "      margin-bottom: 4px;\n",
              "    }\n",
              "\n",
              "    [theme=dark] .colab-df-convert {\n",
              "      background-color: #3B4455;\n",
              "      fill: #D2E3FC;\n",
              "    }\n",
              "\n",
              "    [theme=dark] .colab-df-convert:hover {\n",
              "      background-color: #434B5C;\n",
              "      box-shadow: 0px 1px 3px 1px rgba(0, 0, 0, 0.15);\n",
              "      filter: drop-shadow(0px 1px 2px rgba(0, 0, 0, 0.3));\n",
              "      fill: #FFFFFF;\n",
              "    }\n",
              "  </style>\n",
              "\n",
              "    <script>\n",
              "      const buttonEl =\n",
              "        document.querySelector('#df-92fd84f0-a464-453e-9da1-065952154316 button.colab-df-convert');\n",
              "      buttonEl.style.display =\n",
              "        google.colab.kernel.accessAllowed ? 'block' : 'none';\n",
              "\n",
              "      async function convertToInteractive(key) {\n",
              "        const element = document.querySelector('#df-92fd84f0-a464-453e-9da1-065952154316');\n",
              "        const dataTable =\n",
              "          await google.colab.kernel.invokeFunction('convertToInteractive',\n",
              "                                                    [key], {});\n",
              "        if (!dataTable) return;\n",
              "\n",
              "        const docLinkHtml = 'Like what you see? Visit the ' +\n",
              "          '<a target=\"_blank\" href=https://colab.research.google.com/notebooks/data_table.ipynb>data table notebook</a>'\n",
              "          + ' to learn more about interactive tables.';\n",
              "        element.innerHTML = '';\n",
              "        dataTable['output_type'] = 'display_data';\n",
              "        await google.colab.output.renderOutput(dataTable, element);\n",
              "        const docLink = document.createElement('div');\n",
              "        docLink.innerHTML = docLinkHtml;\n",
              "        element.appendChild(docLink);\n",
              "      }\n",
              "    </script>\n",
              "  </div>\n",
              "\n",
              "\n",
              "<div id=\"df-72322072-6b33-45e2-8a9b-7ec19a567772\">\n",
              "  <button class=\"colab-df-quickchart\" onclick=\"quickchart('df-72322072-6b33-45e2-8a9b-7ec19a567772')\"\n",
              "            title=\"Suggest charts\"\n",
              "            style=\"display:none;\">\n",
              "\n",
              "<svg xmlns=\"http://www.w3.org/2000/svg\" height=\"24px\"viewBox=\"0 0 24 24\"\n",
              "     width=\"24px\">\n",
              "    <g>\n",
              "        <path d=\"M19 3H5c-1.1 0-2 .9-2 2v14c0 1.1.9 2 2 2h14c1.1 0 2-.9 2-2V5c0-1.1-.9-2-2-2zM9 17H7v-7h2v7zm4 0h-2V7h2v10zm4 0h-2v-4h2v4z\"/>\n",
              "    </g>\n",
              "</svg>\n",
              "  </button>\n",
              "\n",
              "<style>\n",
              "  .colab-df-quickchart {\n",
              "      --bg-color: #E8F0FE;\n",
              "      --fill-color: #1967D2;\n",
              "      --hover-bg-color: #E2EBFA;\n",
              "      --hover-fill-color: #174EA6;\n",
              "      --disabled-fill-color: #AAA;\n",
              "      --disabled-bg-color: #DDD;\n",
              "  }\n",
              "\n",
              "  [theme=dark] .colab-df-quickchart {\n",
              "      --bg-color: #3B4455;\n",
              "      --fill-color: #D2E3FC;\n",
              "      --hover-bg-color: #434B5C;\n",
              "      --hover-fill-color: #FFFFFF;\n",
              "      --disabled-bg-color: #3B4455;\n",
              "      --disabled-fill-color: #666;\n",
              "  }\n",
              "\n",
              "  .colab-df-quickchart {\n",
              "    background-color: var(--bg-color);\n",
              "    border: none;\n",
              "    border-radius: 50%;\n",
              "    cursor: pointer;\n",
              "    display: none;\n",
              "    fill: var(--fill-color);\n",
              "    height: 32px;\n",
              "    padding: 0;\n",
              "    width: 32px;\n",
              "  }\n",
              "\n",
              "  .colab-df-quickchart:hover {\n",
              "    background-color: var(--hover-bg-color);\n",
              "    box-shadow: 0 1px 2px rgba(60, 64, 67, 0.3), 0 1px 3px 1px rgba(60, 64, 67, 0.15);\n",
              "    fill: var(--button-hover-fill-color);\n",
              "  }\n",
              "\n",
              "  .colab-df-quickchart-complete:disabled,\n",
              "  .colab-df-quickchart-complete:disabled:hover {\n",
              "    background-color: var(--disabled-bg-color);\n",
              "    fill: var(--disabled-fill-color);\n",
              "    box-shadow: none;\n",
              "  }\n",
              "\n",
              "  .colab-df-spinner {\n",
              "    border: 2px solid var(--fill-color);\n",
              "    border-color: transparent;\n",
              "    border-bottom-color: var(--fill-color);\n",
              "    animation:\n",
              "      spin 1s steps(1) infinite;\n",
              "  }\n",
              "\n",
              "  @keyframes spin {\n",
              "    0% {\n",
              "      border-color: transparent;\n",
              "      border-bottom-color: var(--fill-color);\n",
              "      border-left-color: var(--fill-color);\n",
              "    }\n",
              "    20% {\n",
              "      border-color: transparent;\n",
              "      border-left-color: var(--fill-color);\n",
              "      border-top-color: var(--fill-color);\n",
              "    }\n",
              "    30% {\n",
              "      border-color: transparent;\n",
              "      border-left-color: var(--fill-color);\n",
              "      border-top-color: var(--fill-color);\n",
              "      border-right-color: var(--fill-color);\n",
              "    }\n",
              "    40% {\n",
              "      border-color: transparent;\n",
              "      border-right-color: var(--fill-color);\n",
              "      border-top-color: var(--fill-color);\n",
              "    }\n",
              "    60% {\n",
              "      border-color: transparent;\n",
              "      border-right-color: var(--fill-color);\n",
              "    }\n",
              "    80% {\n",
              "      border-color: transparent;\n",
              "      border-right-color: var(--fill-color);\n",
              "      border-bottom-color: var(--fill-color);\n",
              "    }\n",
              "    90% {\n",
              "      border-color: transparent;\n",
              "      border-bottom-color: var(--fill-color);\n",
              "    }\n",
              "  }\n",
              "</style>\n",
              "\n",
              "  <script>\n",
              "    async function quickchart(key) {\n",
              "      const quickchartButtonEl =\n",
              "        document.querySelector('#' + key + ' button');\n",
              "      quickchartButtonEl.disabled = true;  // To prevent multiple clicks.\n",
              "      quickchartButtonEl.classList.add('colab-df-spinner');\n",
              "      try {\n",
              "        const charts = await google.colab.kernel.invokeFunction(\n",
              "            'suggestCharts', [key], {});\n",
              "      } catch (error) {\n",
              "        console.error('Error during call to suggestCharts:', error);\n",
              "      }\n",
              "      quickchartButtonEl.classList.remove('colab-df-spinner');\n",
              "      quickchartButtonEl.classList.add('colab-df-quickchart-complete');\n",
              "    }\n",
              "    (() => {\n",
              "      let quickchartButtonEl =\n",
              "        document.querySelector('#df-72322072-6b33-45e2-8a9b-7ec19a567772 button');\n",
              "      quickchartButtonEl.style.display =\n",
              "        google.colab.kernel.accessAllowed ? 'block' : 'none';\n",
              "    })();\n",
              "  </script>\n",
              "</div>\n",
              "\n",
              "    </div>\n",
              "  </div>\n"
            ],
            "application/vnd.google.colaboratory.intrinsic+json": {
              "type": "dataframe",
              "variable_name": "df",
              "summary": "{\n  \"name\": \"df\",\n  \"rows\": 5403,\n  \"fields\": [\n    {\n      \"column\": \"image\",\n      \"properties\": {\n        \"dtype\": \"string\",\n        \"num_unique_values\": 5403,\n        \"samples\": [\n          \"65e038b2-c84d-4e95-be70-e58fab54f729\",\n          \"11f2ff4e-6b43-4071-b5b1-2036ec0fe8fe\",\n          \"70d08b8a-72e4-4e35-bff6-21563e19eed0\"\n        ],\n        \"semantic_type\": \"\",\n        \"description\": \"\"\n      }\n    },\n    {\n      \"column\": \"sender_id\",\n      \"properties\": {\n        \"dtype\": \"number\",\n        \"std\": 99,\n        \"min\": 0,\n        \"max\": 370,\n        \"num_unique_values\": 351,\n        \"samples\": [\n          258,\n          160,\n          50\n        ],\n        \"semantic_type\": \"\",\n        \"description\": \"\"\n      }\n    },\n    {\n      \"column\": \"label\",\n      \"properties\": {\n        \"dtype\": \"category\",\n        \"num_unique_values\": 20,\n        \"samples\": [\n          \"Not sure\",\n          \"Hoodie\",\n          \"Polo\"\n        ],\n        \"semantic_type\": \"\",\n        \"description\": \"\"\n      }\n    },\n    {\n      \"column\": \"kids\",\n      \"properties\": {\n        \"dtype\": \"boolean\",\n        \"num_unique_values\": 2,\n        \"samples\": [\n          true,\n          false\n        ],\n        \"semantic_type\": \"\",\n        \"description\": \"\"\n      }\n    }\n  ]\n}"
            }
          },
          "metadata": {},
          "execution_count": 4
        }
      ]
    },
    {
      "cell_type": "code",
      "source": [
        "summary = df['label'].value_counts()\n",
        "tshirt_count = summary.get('T-Shirt', 0)\n",
        "pants_count = summary.get('Pants', 0)\n",
        "\n",
        "print(f\"Number of T-Shirt images: {tshirt_count}\")\n",
        "print(f\"Number of Pants images: {pants_count}\")"
      ],
      "metadata": {
        "colab": {
          "base_uri": "https://localhost:8080/"
        },
        "id": "C5F6oboGOdJ6",
        "outputId": "20965e12-67b7-4ed4-8d97-92222e121f25"
      },
      "execution_count": 5,
      "outputs": [
        {
          "output_type": "stream",
          "name": "stdout",
          "text": [
            "Number of T-Shirt images: 1011\n",
            "Number of Pants images: 692\n"
          ]
        }
      ]
    },
    {
      "cell_type": "code",
      "source": [
        "orig_dataset_dir = \"./clothing-dataset-full/images_original\"\n",
        "tshirt_dir = os.path.join(dest_dataset_dir, \"tshirt\")\n",
        "pants_dir = os.path.join(dest_dataset_dir, \"pants\")\n",
        "\n",
        "filtered_df = df[df['label'].isin([\"T-Shirt\", \"Pants\"])]\n",
        "\n",
        "for index, row in filtered_df.iterrows():\n",
        "  img_name = f\"{row['image']}.jpg\"\n",
        "  src_path = os.path.join(orig_dataset_dir, img_name)\n",
        "  if row['label'] == \"T-Shirt\":\n",
        "    shutil.copy(src_path, tshirt_dir)\n",
        "  elif row['label'] == \"Pants\":\n",
        "    shutil.copy(src_path, pants_dir)"
      ],
      "metadata": {
        "id": "dbt7E1jIM8LE"
      },
      "execution_count": 8,
      "outputs": []
    },
    {
      "cell_type": "markdown",
      "source": [
        "### Step 2: Load and Preprocess the Dataset"
      ],
      "metadata": {
        "id": "HWUPkMDfU0nA"
      }
    },
    {
      "cell_type": "code",
      "source": [
        "from torchvision import transforms\n",
        "from torch.utils.data import DataLoader, random_split\n",
        "from torchvision.datasets import ImageFolder\n",
        "\n",
        "dest_dataset_dir = \"./dataset\"\n",
        "\n",
        "transform = transforms.Compose([\n",
        "    transforms.Resize((336, 336)),\n",
        "    transforms.ToTensor(),\n",
        "    transforms.Normalize(mean=[0.5, 0.5, 0.5], std=[0.5, 0.5, 0.5])\n",
        "])\n",
        "\n",
        "dataset = ImageFolder(root=dest_dataset_dir, transform=transform)\n",
        "\n",
        "train_size = int(0.8 * len(dataset))\n",
        "test_size = len(dataset) - train_size\n",
        "train_dataset, test_dataset = random_split(dataset, [train_size, test_size])\n",
        "\n",
        "train_loader = DataLoader(train_dataset, batch_size=32, shuffle=True)\n",
        "test_loader = DataLoader(test_dataset, batch_size=32, shuffle=False)"
      ],
      "metadata": {
        "id": "CmZrTqklSCcm"
      },
      "execution_count": 4,
      "outputs": []
    },
    {
      "cell_type": "markdown",
      "source": [
        "### Step 3: Load Vila Model (ViTL/14)"
      ],
      "metadata": {
        "id": "Yk1o95IiWGZk"
      }
    },
    {
      "cell_type": "code",
      "source": [
        "# !git clone https://github.com/Efficient-Large-Model/VILA.git\n",
        "# %cd VILA"
      ],
      "metadata": {
        "colab": {
          "base_uri": "https://localhost:8080/"
        },
        "id": "QqCA2sfOb67F",
        "outputId": "bb1bdb20-2519-44af-c7b9-85183e6cdf5a"
      },
      "execution_count": 4,
      "outputs": [
        {
          "output_type": "stream",
          "name": "stdout",
          "text": [
            "/content/drive/MyDrive/ece_project2/vila/VILA\n"
          ]
        }
      ]
    },
    {
      "cell_type": "code",
      "source": [
        "# !chmod a+x environment_setup.sh\n",
        "# !./environment_setup.sh vila\n",
        "\n",
        "# !python -W ignore llava/eval/run_vila.py \\\n",
        "#     --model-path Efficient-Large-Model/Llama-3-VILA1.5-8 \\\n",
        "#     --conv-mode llama_3 \\\n",
        "#     --query \"<image>\\n Please describe the traffic condition.\" \\\n",
        "#     --image-file \"car.jpg\""
      ],
      "metadata": {
        "id": "Spvp5tOYcCyq"
      },
      "execution_count": 6,
      "outputs": []
    },
    {
      "cell_type": "code",
      "source": [
        "import torch\n",
        "from transformers import CLIPProcessor, CLIPModel\n",
        "from tqdm import tqdm\n",
        "\n",
        "device = \"cuda\" if torch.cuda.is_available() else \"cpu\"\n",
        "\n",
        "model = CLIPModel.from_pretrained(\"openai/clip-vit-large-patch14\")\n",
        "model.to(device)\n",
        ""
      ],
      "metadata": {
        "colab": {
          "base_uri": "https://localhost:8080/",
          "height": 1000,
          "referenced_widgets": [
            "48efc4d49fc049dfb70006506c8a0c21",
            "f94e3d412912426f9cfa4ba9263ccf05",
            "387fce6a99344029912d3c783aec56da",
            "cfe8e49421d74729914e0f47eb16ade9",
            "73483cddb46f439d9f54e773e7d87568",
            "6fb9f77887c949fb992c20f13cf25af9",
            "97271c879ddb4eb78f4f17fbf52e6de3",
            "3adb0394f4f54aabb559654a065bdb75",
            "e3bc1f281c7f4ed0a68dcf72a8afdcab",
            "ba541e3388824405b80b647bf4009ddd",
            "088e193dcb384a9a8c575abaf650a135",
            "57dd3d9146df4ddcad8cb781fe1e2ba0",
            "13c02e3d08254f63a4aff09e45d40430",
            "0bbf71c0b92a44999f92a69f3dd7b540",
            "c6d8eebe0d0c4bdea190ba2a7badf552",
            "1d5f8697963a48968b5160a3fdb48820",
            "a6f0d563148a44ae8f4f7448cc5b0fe0",
            "6522d980a8a748e7ae3053903d16f9c2",
            "2cf87df02f424b2f94beb40a37868d9c",
            "590db6f6b8914f83b07e20689b82a476",
            "8648fdd0386640d08f311d06990d1986",
            "cafaac9b8fab46daa30764448bc796d4"
          ]
        },
        "id": "F0LsqnqjqHrz",
        "outputId": "df3348e0-7c78-4543-9404-019ad6d3a693"
      },
      "execution_count": 5,
      "outputs": [
        {
          "output_type": "stream",
          "name": "stderr",
          "text": [
            "/usr/local/lib/python3.10/dist-packages/huggingface_hub/utils/_auth.py:94: UserWarning: \n",
            "The secret `HF_TOKEN` does not exist in your Colab secrets.\n",
            "To authenticate with the Hugging Face Hub, create a token in your settings tab (https://huggingface.co/settings/tokens), set it as secret in your Google Colab and restart your session.\n",
            "You will be able to reuse this secret in all of your notebooks.\n",
            "Please note that authentication is recommended but still optional to access public models or datasets.\n",
            "  warnings.warn(\n"
          ]
        },
        {
          "output_type": "display_data",
          "data": {
            "text/plain": [
              "config.json:   0%|          | 0.00/4.52k [00:00<?, ?B/s]"
            ],
            "application/vnd.jupyter.widget-view+json": {
              "version_major": 2,
              "version_minor": 0,
              "model_id": "48efc4d49fc049dfb70006506c8a0c21"
            }
          },
          "metadata": {}
        },
        {
          "output_type": "display_data",
          "data": {
            "text/plain": [
              "model.safetensors:   0%|          | 0.00/1.71G [00:00<?, ?B/s]"
            ],
            "application/vnd.jupyter.widget-view+json": {
              "version_major": 2,
              "version_minor": 0,
              "model_id": "57dd3d9146df4ddcad8cb781fe1e2ba0"
            }
          },
          "metadata": {}
        },
        {
          "output_type": "execute_result",
          "data": {
            "text/plain": [
              "CLIPModel(\n",
              "  (text_model): CLIPTextTransformer(\n",
              "    (embeddings): CLIPTextEmbeddings(\n",
              "      (token_embedding): Embedding(49408, 768)\n",
              "      (position_embedding): Embedding(77, 768)\n",
              "    )\n",
              "    (encoder): CLIPEncoder(\n",
              "      (layers): ModuleList(\n",
              "        (0-11): 12 x CLIPEncoderLayer(\n",
              "          (self_attn): CLIPSdpaAttention(\n",
              "            (k_proj): Linear(in_features=768, out_features=768, bias=True)\n",
              "            (v_proj): Linear(in_features=768, out_features=768, bias=True)\n",
              "            (q_proj): Linear(in_features=768, out_features=768, bias=True)\n",
              "            (out_proj): Linear(in_features=768, out_features=768, bias=True)\n",
              "          )\n",
              "          (layer_norm1): LayerNorm((768,), eps=1e-05, elementwise_affine=True)\n",
              "          (mlp): CLIPMLP(\n",
              "            (activation_fn): QuickGELUActivation()\n",
              "            (fc1): Linear(in_features=768, out_features=3072, bias=True)\n",
              "            (fc2): Linear(in_features=3072, out_features=768, bias=True)\n",
              "          )\n",
              "          (layer_norm2): LayerNorm((768,), eps=1e-05, elementwise_affine=True)\n",
              "        )\n",
              "      )\n",
              "    )\n",
              "    (final_layer_norm): LayerNorm((768,), eps=1e-05, elementwise_affine=True)\n",
              "  )\n",
              "  (vision_model): CLIPVisionTransformer(\n",
              "    (embeddings): CLIPVisionEmbeddings(\n",
              "      (patch_embedding): Conv2d(3, 1024, kernel_size=(14, 14), stride=(14, 14), bias=False)\n",
              "      (position_embedding): Embedding(257, 1024)\n",
              "    )\n",
              "    (pre_layrnorm): LayerNorm((1024,), eps=1e-05, elementwise_affine=True)\n",
              "    (encoder): CLIPEncoder(\n",
              "      (layers): ModuleList(\n",
              "        (0-23): 24 x CLIPEncoderLayer(\n",
              "          (self_attn): CLIPSdpaAttention(\n",
              "            (k_proj): Linear(in_features=1024, out_features=1024, bias=True)\n",
              "            (v_proj): Linear(in_features=1024, out_features=1024, bias=True)\n",
              "            (q_proj): Linear(in_features=1024, out_features=1024, bias=True)\n",
              "            (out_proj): Linear(in_features=1024, out_features=1024, bias=True)\n",
              "          )\n",
              "          (layer_norm1): LayerNorm((1024,), eps=1e-05, elementwise_affine=True)\n",
              "          (mlp): CLIPMLP(\n",
              "            (activation_fn): QuickGELUActivation()\n",
              "            (fc1): Linear(in_features=1024, out_features=4096, bias=True)\n",
              "            (fc2): Linear(in_features=4096, out_features=1024, bias=True)\n",
              "          )\n",
              "          (layer_norm2): LayerNorm((1024,), eps=1e-05, elementwise_affine=True)\n",
              "        )\n",
              "      )\n",
              "    )\n",
              "    (post_layernorm): LayerNorm((1024,), eps=1e-05, elementwise_affine=True)\n",
              "  )\n",
              "  (visual_projection): Linear(in_features=1024, out_features=768, bias=False)\n",
              "  (text_projection): Linear(in_features=768, out_features=768, bias=False)\n",
              ")"
            ]
          },
          "metadata": {},
          "execution_count": 5
        }
      ]
    },
    {
      "cell_type": "code",
      "source": [
        "vision_model = model.vision_model\n",
        "\n",
        "print(vision_model)"
      ],
      "metadata": {
        "colab": {
          "base_uri": "https://localhost:8080/"
        },
        "id": "v-txsDzXL2Hu",
        "outputId": "8b806fb1-15e9-4db3-f552-7bf693603ba4"
      },
      "execution_count": 6,
      "outputs": [
        {
          "output_type": "stream",
          "name": "stdout",
          "text": [
            "CLIPVisionTransformer(\n",
            "  (embeddings): CLIPVisionEmbeddings(\n",
            "    (patch_embedding): Conv2d(3, 1024, kernel_size=(14, 14), stride=(14, 14), bias=False)\n",
            "    (position_embedding): Embedding(257, 1024)\n",
            "  )\n",
            "  (pre_layrnorm): LayerNorm((1024,), eps=1e-05, elementwise_affine=True)\n",
            "  (encoder): CLIPEncoder(\n",
            "    (layers): ModuleList(\n",
            "      (0-23): 24 x CLIPEncoderLayer(\n",
            "        (self_attn): CLIPSdpaAttention(\n",
            "          (k_proj): Linear(in_features=1024, out_features=1024, bias=True)\n",
            "          (v_proj): Linear(in_features=1024, out_features=1024, bias=True)\n",
            "          (q_proj): Linear(in_features=1024, out_features=1024, bias=True)\n",
            "          (out_proj): Linear(in_features=1024, out_features=1024, bias=True)\n",
            "        )\n",
            "        (layer_norm1): LayerNorm((1024,), eps=1e-05, elementwise_affine=True)\n",
            "        (mlp): CLIPMLP(\n",
            "          (activation_fn): QuickGELUActivation()\n",
            "          (fc1): Linear(in_features=1024, out_features=4096, bias=True)\n",
            "          (fc2): Linear(in_features=4096, out_features=1024, bias=True)\n",
            "        )\n",
            "        (layer_norm2): LayerNorm((1024,), eps=1e-05, elementwise_affine=True)\n",
            "      )\n",
            "    )\n",
            "  )\n",
            "  (post_layernorm): LayerNorm((1024,), eps=1e-05, elementwise_affine=True)\n",
            ")\n"
          ]
        }
      ]
    },
    {
      "cell_type": "markdown",
      "source": [
        "### Step 4: Modify Configuration"
      ],
      "metadata": {
        "id": "H2dvZIQgEzDg"
      }
    },
    {
      "cell_type": "code",
      "source": [
        "config = vision_model.config\n",
        "print(config)"
      ],
      "metadata": {
        "colab": {
          "base_uri": "https://localhost:8080/"
        },
        "id": "EDqCya7YOLo-",
        "outputId": "566f9b80-fdcb-4920-cedc-2c8e4069f5e7"
      },
      "execution_count": 7,
      "outputs": [
        {
          "output_type": "stream",
          "name": "stdout",
          "text": [
            "CLIPVisionConfig {\n",
            "  \"_attn_implementation_autoset\": true,\n",
            "  \"attention_dropout\": 0.0,\n",
            "  \"dropout\": 0.0,\n",
            "  \"hidden_act\": \"quick_gelu\",\n",
            "  \"hidden_size\": 1024,\n",
            "  \"image_size\": 224,\n",
            "  \"initializer_factor\": 1.0,\n",
            "  \"initializer_range\": 0.02,\n",
            "  \"intermediate_size\": 4096,\n",
            "  \"layer_norm_eps\": 1e-05,\n",
            "  \"model_type\": \"clip_vision_model\",\n",
            "  \"num_attention_heads\": 16,\n",
            "  \"num_channels\": 3,\n",
            "  \"num_hidden_layers\": 24,\n",
            "  \"patch_size\": 14,\n",
            "  \"projection_dim\": 768,\n",
            "  \"transformers_version\": \"4.46.3\"\n",
            "}\n",
            "\n"
          ]
        }
      ]
    },
    {
      "cell_type": "code",
      "source": [
        "from transformers import CLIPVisionConfig, CLIPVisionModel\n",
        "\n",
        "config.image_size = 336\n",
        "num_patches = (config.image_size // config.patch_size) **  2\n",
        "\n",
        "updated_vision_model = CLIPVisionModel(config)\n",
        "updated_vision_model.to(device)\n",
        "print(updated_vision_model.config)"
      ],
      "metadata": {
        "colab": {
          "base_uri": "https://localhost:8080/"
        },
        "id": "HBelmJpgOQhL",
        "outputId": "4e16ad60-5a6d-475c-fa22-531fa1add86a"
      },
      "execution_count": 8,
      "outputs": [
        {
          "output_type": "stream",
          "name": "stdout",
          "text": [
            "CLIPVisionConfig {\n",
            "  \"_attn_implementation_autoset\": true,\n",
            "  \"attention_dropout\": 0.0,\n",
            "  \"dropout\": 0.0,\n",
            "  \"hidden_act\": \"quick_gelu\",\n",
            "  \"hidden_size\": 1024,\n",
            "  \"image_size\": 336,\n",
            "  \"initializer_factor\": 1.0,\n",
            "  \"initializer_range\": 0.02,\n",
            "  \"intermediate_size\": 4096,\n",
            "  \"layer_norm_eps\": 1e-05,\n",
            "  \"model_type\": \"clip_vision_model\",\n",
            "  \"num_attention_heads\": 16,\n",
            "  \"num_channels\": 3,\n",
            "  \"num_hidden_layers\": 24,\n",
            "  \"patch_size\": 14,\n",
            "  \"projection_dim\": 768,\n",
            "  \"transformers_version\": \"4.46.3\"\n",
            "}\n",
            "\n"
          ]
        }
      ]
    },
    {
      "cell_type": "markdown",
      "source": [
        "### Step 5: Train the Original Model"
      ],
      "metadata": {
        "id": "A8QqgVV9Exu9"
      }
    },
    {
      "cell_type": "code",
      "source": [
        "import os\n",
        "torch.save(updated_vision_model, \"entire_model.pth\")\n",
        "\n",
        "model_size = os.path.getsize(\"entire_model.pth\") / (1024 * 1024)\n",
        "print(f\"Entire Model Size: {model_size:.2f} MB\")"
      ],
      "metadata": {
        "colab": {
          "base_uri": "https://localhost:8080/"
        },
        "id": "K50w9MvOnCDm",
        "outputId": "766900c6-f439-4001-af66-99399bbc30ff"
      },
      "execution_count": 9,
      "outputs": [
        {
          "output_type": "stream",
          "name": "stdout",
          "text": [
            "Entire Model Size: 1157.98 MB\n"
          ]
        }
      ]
    },
    {
      "cell_type": "code",
      "source": [
        "import time\n",
        "import psutil\n",
        "\n",
        "input_size = (3, 336, 336)\n",
        "\n",
        "def extract_embeddings(model, dataloader, device):\n",
        "    model.eval()\n",
        "    all_embeddings = []\n",
        "    all_labels = []\n",
        "\n",
        "    batch_times = []\n",
        "\n",
        "    start_time = time.time()\n",
        "    if device != \"cpu\":\n",
        "      torch.cuda.reset_peak_memory_stats(device)\n",
        "\n",
        "\n",
        "    with torch.no_grad():\n",
        "        for images, labels in tqdm(dataloader):\n",
        "            batch_start_time = time.time()\n",
        "            images = images.to(device)\n",
        "\n",
        "\n",
        "            outputs = model(pixel_values=images)\n",
        "            embeddings = outputs.last_hidden_state[:, 0, :]\n",
        "\n",
        "            batch_times.append(time.time() - batch_start_time)\n",
        "\n",
        "            all_embeddings.append(embeddings.cpu())\n",
        "            all_labels.append(labels.cpu())\n",
        "\n",
        "    total_time = time.time() - start_time\n",
        "    print(f\"Total Embedding Extraction Time: {total_time:.2f} seconds\")\n",
        "\n",
        "    avg_batch_time = sum(batch_times) / len(batch_times)\n",
        "    print(f\"Average Time per Batch: {avg_batch_time:.2f} seconds\")\n",
        "\n",
        "    if device != \"cpu\":\n",
        "      peak_memory = torch.cuda.max_memory_allocated(device) / (1024 * 1024)  # Convert to MB\n",
        "      print(f\"Peak Memory Usage During Embedding Extraction: {peak_memory:.2f} MB\")\n",
        "\n",
        "    return torch.cat(all_embeddings), torch.cat(all_labels)\n",
        "\n"
      ],
      "metadata": {
        "id": "hA_XSzFKRhME"
      },
      "execution_count": 10,
      "outputs": []
    },
    {
      "cell_type": "code",
      "source": [
        "train_embeddings, train_labels = extract_embeddings(updated_vision_model, train_loader, device)\n",
        "test_embeddings, test_labels = extract_embeddings(updated_vision_model, test_loader, device)\n",
        "\n",
        "print(f\"Train Embeddings Shape: {train_embeddings.shape}\")\n",
        "print(f\"Test Embeddings Shape: {test_embeddings.shape}\")"
      ],
      "metadata": {
        "colab": {
          "base_uri": "https://localhost:8080/"
        },
        "id": "4vP5Ubwcm5Pm",
        "outputId": "7810f940-d602-409e-8793-3b1153e4ec9f"
      },
      "execution_count": 11,
      "outputs": [
        {
          "output_type": "stream",
          "name": "stderr",
          "text": [
            "100%|██████████| 43/43 [13:43<00:00, 19.15s/it]\n"
          ]
        },
        {
          "output_type": "stream",
          "name": "stdout",
          "text": [
            "Total Embedding Extraction Time: 823.50 seconds\n",
            "Average Time per Batch: 0.14 seconds\n",
            "Peak Memory Usage During Embedding Extraction: 4426.27 MB\n"
          ]
        },
        {
          "output_type": "stream",
          "name": "stderr",
          "text": [
            "100%|██████████| 11/11 [03:16<00:00, 17.84s/it]"
          ]
        },
        {
          "output_type": "stream",
          "name": "stdout",
          "text": [
            "Total Embedding Extraction Time: 196.26 seconds\n",
            "Average Time per Batch: 0.02 seconds\n",
            "Peak Memory Usage During Embedding Extraction: 4065.65 MB\n",
            "Train Embeddings Shape: torch.Size([1362, 1024])\n",
            "Test Embeddings Shape: torch.Size([341, 1024])\n"
          ]
        },
        {
          "output_type": "stream",
          "name": "stderr",
          "text": [
            "\n"
          ]
        }
      ]
    },
    {
      "cell_type": "code",
      "source": [
        "from sklearn.linear_model import LogisticRegression\n",
        "from sklearn.metrics import accuracy_score\n",
        "\n",
        "def train_and_evaluate_classifier(train_embeddings, train_labels, test_embeddings, test_labels):\n",
        "\n",
        "    train_embeddings_np = train_embeddings.numpy()\n",
        "    train_labels_np = train_labels.numpy()\n",
        "    test_embeddings_np = test_embeddings.numpy()\n",
        "    test_labels_np = test_labels.numpy()\n",
        "\n",
        "\n",
        "    classifier = LogisticRegression(max_iter=1000)\n",
        "    classifier.fit(train_embeddings_np, train_labels_np)\n",
        "\n",
        "\n",
        "    predictions = classifier.predict(test_embeddings_np)\n",
        "    accuracy = accuracy_score(test_labels_np, predictions)\n",
        "\n",
        "    print(f\"Test Accuracy: {accuracy:.4f}\")\n"
      ],
      "metadata": {
        "id": "kTvUxFfYgAeB"
      },
      "execution_count": 12,
      "outputs": []
    },
    {
      "cell_type": "code",
      "source": [
        "train_and_evaluate_classifier(train_embeddings, train_labels, test_embeddings, test_labels)"
      ],
      "metadata": {
        "colab": {
          "base_uri": "https://localhost:8080/"
        },
        "id": "ncozUDmlhpC3",
        "outputId": "9ba68731-8e81-4247-a7f6-da171f23eddb"
      },
      "execution_count": 13,
      "outputs": [
        {
          "output_type": "stream",
          "name": "stdout",
          "text": [
            "Test Accuracy: 0.7801\n"
          ]
        }
      ]
    },
    {
      "cell_type": "markdown",
      "source": [
        "### Step 6:Pruning"
      ],
      "metadata": {
        "id": "KdhBlNuDicdB"
      }
    },
    {
      "cell_type": "markdown",
      "source": [
        "#### Linear Layer Pruning"
      ],
      "metadata": {
        "id": "HTzUkI43HrSQ"
      }
    },
    {
      "cell_type": "code",
      "source": [
        "import torch.nn.utils.prune as prune\n",
        "\n",
        "def apply_pruning(model, amount=0.3):\n",
        "    pruned_model = model.__class__(model.config).to(next(model.parameters()).device)\n",
        "    pruned_model.load_state_dict(model.state_dict())\n",
        "\n",
        "    for name, module in pruned_model.named_modules():\n",
        "        if isinstance(module, torch.nn.Linear):\n",
        "            prune.l1_unstructured(module, name='weight', amount=amount)\n",
        "\n",
        "    for name, module in pruned_model.named_modules():\n",
        "        if isinstance(module, torch.nn.Linear):\n",
        "            prune.remove(module, 'weight')\n",
        "\n",
        "    return pruned_model\n",
        "\n",
        "pruned_model = apply_pruning(updated_vision_model, amount=0.45)\n",
        "\n",
        "torch.save(pruned_model.state_dict(), \"pruned_vision_model.pth\")\n",
        "print(f\"Pruned model saved. Size: {os.path.getsize('pruned_vision_model.pth') / 1e6:.2f} MB\")\n"
      ],
      "metadata": {
        "colab": {
          "base_uri": "https://localhost:8080/"
        },
        "id": "8MybYwkOijAE",
        "outputId": "9f327c6a-d618-4c31-a95f-f079d691e523"
      },
      "execution_count": 14,
      "outputs": [
        {
          "output_type": "stream",
          "name": "stdout",
          "text": [
            "Pruned model saved. Size: 1214.19 MB\n"
          ]
        }
      ]
    },
    {
      "cell_type": "code",
      "source": [
        "pruned_train_embeddings, pruned_train_labels = extract_embeddings(\n",
        "    pruned_model, train_loader, device)\n",
        "\n",
        "pruned_test_embeddings, pruned_test_labels = extract_embeddings(\n",
        "    pruned_model, test_loader, device)\n",
        "\n",
        "train_and_evaluate_classifier(pruned_train_embeddings, pruned_train_labels,\n",
        "                              pruned_test_embeddings, pruned_test_labels)\n"
      ],
      "metadata": {
        "colab": {
          "base_uri": "https://localhost:8080/"
        },
        "id": "3UGrRSYHilUb",
        "outputId": "6991dfcf-7556-49b9-d1c2-2a2886d345d2"
      },
      "execution_count": 15,
      "outputs": [
        {
          "output_type": "stream",
          "name": "stderr",
          "text": [
            "100%|██████████| 43/43 [05:06<00:00,  7.12s/it]\n"
          ]
        },
        {
          "output_type": "stream",
          "name": "stdout",
          "text": [
            "Total Embedding Extraction Time: 306.30 seconds\n",
            "Average Time per Batch: 0.02 seconds\n",
            "Peak Memory Usage During Embedding Extraction: 5655.53 MB\n"
          ]
        },
        {
          "output_type": "stream",
          "name": "stderr",
          "text": [
            "100%|██████████| 11/11 [01:15<00:00,  6.90s/it]\n"
          ]
        },
        {
          "output_type": "stream",
          "name": "stdout",
          "text": [
            "Total Embedding Extraction Time: 75.87 seconds\n",
            "Average Time per Batch: 0.02 seconds\n",
            "Peak Memory Usage During Embedding Extraction: 5222.78 MB\n",
            "Test Accuracy: 0.7771\n"
          ]
        }
      ]
    },
    {
      "cell_type": "code",
      "source": [
        "def measure_inference_time(model, dataloader, device):\n",
        "    model.eval()\n",
        "    total_time = 0\n",
        "    total_batches = len(dataloader)\n",
        "\n",
        "    with torch.no_grad():\n",
        "        for images, _ in dataloader:\n",
        "            images = images.to(device)\n",
        "\n",
        "            start_time = time.time()\n",
        "            _ = model(pixel_values=images)\n",
        "            end_time = time.time()\n",
        "\n",
        "            total_time += (end_time - start_time)\n",
        "\n",
        "    avg_time_per_batch = total_time / total_batches\n",
        "    print(f\"Total Inference Time: {total_time:.2f} seconds\")\n",
        "    print(f\"Average Time per Batch: {avg_time_per_batch:.4f} seconds\")\n",
        "\n",
        "    return total_time, avg_time_per_batch\n"
      ],
      "metadata": {
        "id": "ZVyTdo7sixQp"
      },
      "execution_count": 16,
      "outputs": []
    },
    {
      "cell_type": "code",
      "source": [
        "measure_inference_time(updated_vision_model, test_loader, device)\n",
        "measure_inference_time(pruned_model, test_loader, device)"
      ],
      "metadata": {
        "colab": {
          "base_uri": "https://localhost:8080/"
        },
        "id": "cXNt7tPzrPup",
        "outputId": "bd748514-0ab1-4eeb-ca90-d40d6b16acba"
      },
      "execution_count": 17,
      "outputs": [
        {
          "output_type": "stream",
          "name": "stdout",
          "text": [
            "Total Inference Time: 0.16 seconds\n",
            "Average Time per Batch: 0.0146 seconds\n",
            "Total Inference Time: 0.15 seconds\n",
            "Average Time per Batch: 0.0140 seconds\n"
          ]
        },
        {
          "output_type": "execute_result",
          "data": {
            "text/plain": [
              "(0.15371060371398926, 0.013973691246726296)"
            ]
          },
          "metadata": {},
          "execution_count": 17
        }
      ]
    },
    {
      "cell_type": "code",
      "source": [
        "import torch.nn.utils.prune as prune\n",
        "\n",
        "def structured_prune_model(vision_model, prune_amount=0.3):\n",
        "    for i, layer in enumerate(vision_model.encoder.layers):\n",
        "        prune.ln_structured(layer.self_attn.k_proj, name=\"weight\", amount=prune_amount, n=2, dim=0)\n",
        "        prune.ln_structured(layer.self_attn.q_proj, name=\"weight\", amount=prune_amount, n=2, dim=0)\n",
        "        prune.ln_structured(layer.self_attn.v_proj, name=\"weight\", amount=prune_amount, n=2, dim=0)\n",
        "        prune.ln_structured(layer.self_attn.out_proj, name=\"weight\", amount=prune_amount, n=2, dim=0)\n",
        "\n",
        "        prune.ln_structured(layer.mlp.fc1, name=\"weight\", amount=prune_amount, n=2, dim=0)\n",
        "        prune.ln_structured(layer.mlp.fc2, name=\"weight\", amount=prune_amount, n=2, dim=0)\n",
        "\n",
        "        print(f\"Layer {i}: Pruned {prune_amount * 100}% of output channels\")\n",
        "\n",
        "prune_amount = 0.3\n",
        "structured_prune_model(updated_vision_model.vision_model, prune_amount)\n"
      ],
      "metadata": {
        "colab": {
          "base_uri": "https://localhost:8080/"
        },
        "id": "JATOz5YQUv81",
        "outputId": "16d2437f-201c-4f1f-e624-0ec0fbdf9b81"
      },
      "execution_count": 20,
      "outputs": [
        {
          "output_type": "stream",
          "name": "stdout",
          "text": [
            "Layer 0: Pruned 30.0% of output channels\n",
            "Layer 1: Pruned 30.0% of output channels\n",
            "Layer 2: Pruned 30.0% of output channels\n",
            "Layer 3: Pruned 30.0% of output channels\n",
            "Layer 4: Pruned 30.0% of output channels\n",
            "Layer 5: Pruned 30.0% of output channels\n",
            "Layer 6: Pruned 30.0% of output channels\n",
            "Layer 7: Pruned 30.0% of output channels\n",
            "Layer 8: Pruned 30.0% of output channels\n",
            "Layer 9: Pruned 30.0% of output channels\n",
            "Layer 10: Pruned 30.0% of output channels\n",
            "Layer 11: Pruned 30.0% of output channels\n",
            "Layer 12: Pruned 30.0% of output channels\n",
            "Layer 13: Pruned 30.0% of output channels\n",
            "Layer 14: Pruned 30.0% of output channels\n",
            "Layer 15: Pruned 30.0% of output channels\n",
            "Layer 16: Pruned 30.0% of output channels\n",
            "Layer 17: Pruned 30.0% of output channels\n",
            "Layer 18: Pruned 30.0% of output channels\n",
            "Layer 19: Pruned 30.0% of output channels\n",
            "Layer 20: Pruned 30.0% of output channels\n",
            "Layer 21: Pruned 30.0% of output channels\n",
            "Layer 22: Pruned 30.0% of output channels\n",
            "Layer 23: Pruned 30.0% of output channels\n"
          ]
        }
      ]
    },
    {
      "cell_type": "markdown",
      "source": [
        "#### Self-Attention Layer Pruning"
      ],
      "metadata": {
        "id": "lEgzpXC-HzNA"
      }
    },
    {
      "cell_type": "code",
      "source": [
        "def remove_pruning_masks(vision_model):\n",
        "    for layer in vision_model.encoder.layers:\n",
        "        prune.remove(layer.self_attn.k_proj, \"weight\")\n",
        "        prune.remove(layer.self_attn.q_proj, \"weight\")\n",
        "        prune.remove(layer.self_attn.v_proj, \"weight\")\n",
        "        prune.remove(layer.self_attn.out_proj, \"weight\")\n",
        "        prune.remove(layer.mlp.fc1, \"weight\")\n",
        "        prune.remove(layer.mlp.fc2, \"weight\")\n",
        "    print(\"Pruning masks removed. Model finalized.\")\n",
        "\n",
        "remove_pruning_masks(updated_vision_model.vision_model)\n"
      ],
      "metadata": {
        "colab": {
          "base_uri": "https://localhost:8080/"
        },
        "id": "K5SZyH40eCiq",
        "outputId": "f6929b4c-218d-499c-c804-8b7f6b992e33"
      },
      "execution_count": 21,
      "outputs": [
        {
          "output_type": "stream",
          "name": "stdout",
          "text": [
            "Pruning masks removed. Model finalized.\n"
          ]
        }
      ]
    },
    {
      "cell_type": "code",
      "source": [
        "train_embeddings, train_labels = extract_embeddings(updated_vision_model, train_loader, device)\n",
        "test_embeddings, test_labels = extract_embeddings(updated_vision_model, test_loader, device)"
      ],
      "metadata": {
        "colab": {
          "base_uri": "https://localhost:8080/"
        },
        "id": "_ej3oRkdey0Z",
        "outputId": "169efead-aff9-43df-c340-d2556cc6f65e"
      },
      "execution_count": 22,
      "outputs": [
        {
          "output_type": "stream",
          "name": "stderr",
          "text": [
            "100%|██████████| 43/43 [05:03<00:00,  7.07s/it]\n"
          ]
        },
        {
          "output_type": "stream",
          "name": "stdout",
          "text": [
            "Total Embedding Extraction Time: 303.92 seconds\n",
            "Average Time per Batch: 0.02 seconds\n",
            "Peak Memory Usage During Embedding Extraction: 5336.38 MB\n"
          ]
        },
        {
          "output_type": "stream",
          "name": "stderr",
          "text": [
            "100%|██████████| 11/11 [01:14<00:00,  6.77s/it]"
          ]
        },
        {
          "output_type": "stream",
          "name": "stdout",
          "text": [
            "Total Embedding Extraction Time: 74.50 seconds\n",
            "Average Time per Batch: 0.02 seconds\n",
            "Peak Memory Usage During Embedding Extraction: 5336.38 MB\n"
          ]
        },
        {
          "output_type": "stream",
          "name": "stderr",
          "text": [
            "\n"
          ]
        }
      ]
    },
    {
      "cell_type": "code",
      "source": [
        "train_and_evaluate_classifier(train_embeddings, train_labels, test_embeddings, test_labels)"
      ],
      "metadata": {
        "colab": {
          "base_uri": "https://localhost:8080/"
        },
        "id": "zpZn2beLe4oE",
        "outputId": "c922ab3f-d21e-4411-bdab-b1b27104a8cb"
      },
      "execution_count": 23,
      "outputs": [
        {
          "output_type": "stream",
          "name": "stdout",
          "text": [
            "Test Accuracy: 0.7683\n"
          ]
        }
      ]
    },
    {
      "cell_type": "code",
      "source": [
        "measure_inference_time(updated_vision_model, test_loader, device)"
      ],
      "metadata": {
        "colab": {
          "base_uri": "https://localhost:8080/"
        },
        "id": "gEHXXrSMg1lx",
        "outputId": "03e71a22-e040-4637-8694-1b27416997f7"
      },
      "execution_count": 24,
      "outputs": [
        {
          "output_type": "stream",
          "name": "stdout",
          "text": [
            "Total Inference Time: 0.15 seconds\n",
            "Average Time per Batch: 0.0136 seconds\n"
          ]
        },
        {
          "output_type": "execute_result",
          "data": {
            "text/plain": [
              "(0.1492633819580078, 0.013569398359818892)"
            ]
          },
          "metadata": {},
          "execution_count": 24
        }
      ]
    }
  ]
}